{
  "nbformat": 4,
  "nbformat_minor": 0,
  "metadata": {
    "colab": {
      "provenance": []
    },
    "kernelspec": {
      "name": "python3",
      "display_name": "Python 3"
    },
    "language_info": {
      "name": "python"
    }
  },
  "cells": [
    {
      "cell_type": "code",
      "source": [
        "#load libraries\n",
        "import pandas as pd\n",
        "import numpy as np\n",
        "import matplotlib.pyplot as plt\n",
        "%matplotlib inline\n",
        "import seaborn as sns\n",
        "from sklearn.ensemble import RandomForestClassifier\n"
      ],
      "metadata": {
        "id": "dWm0P-dqKkPm"
      },
      "execution_count": null,
      "outputs": []
    },
    {
      "cell_type": "code",
      "source": [
        "df = pd.read_csv('creditcard.csv')"
      ],
      "metadata": {
        "id": "qetuPsGhMbHZ"
      },
      "execution_count": null,
      "outputs": []
    },
    {
      "cell_type": "code",
      "source": [
        "df.head()"
      ],
      "metadata": {
        "id": "1ZddcljOM0VY",
        "colab": {
          "base_uri": "https://localhost:8080/",
          "height": 235
        },
        "outputId": "83edbe39-5ffd-4728-91c2-fd5078bc840e"
      },
      "execution_count": null,
      "outputs": [
        {
          "output_type": "execute_result",
          "data": {
            "text/plain": [
              "   Time        V1        V2        V3        V4        V5        V6        V7  \\\n",
              "0     0 -1.359807 -0.072781  2.536347  1.378155 -0.338321  0.462388  0.239599   \n",
              "1     0  1.191857  0.266151  0.166480  0.448154  0.060018 -0.082361 -0.078803   \n",
              "2     1 -1.358354 -1.340163  1.773209  0.379780 -0.503198  1.800499  0.791461   \n",
              "3     1 -0.966272 -0.185226  1.792993 -0.863291 -0.010309  1.247203  0.237609   \n",
              "4     2 -1.158233  0.877737  1.548718  0.403034 -0.407193  0.095921  0.592941   \n",
              "\n",
              "         V8        V9  ...       V21       V22       V23       V24       V25  \\\n",
              "0  0.098698  0.363787  ... -0.018307  0.277838 -0.110474  0.066928  0.128539   \n",
              "1  0.085102 -0.255425  ... -0.225775 -0.638672  0.101288 -0.339846  0.167170   \n",
              "2  0.247676 -1.514654  ...  0.247998  0.771679  0.909412 -0.689281 -0.327642   \n",
              "3  0.377436 -1.387024  ... -0.108300  0.005274 -0.190321 -1.175575  0.647376   \n",
              "4 -0.270533  0.817739  ... -0.009431  0.798278 -0.137458  0.141267 -0.206010   \n",
              "\n",
              "        V26       V27       V28  Amount  Class  \n",
              "0 -0.189115  0.133558 -0.021053  149.62    0.0  \n",
              "1  0.125895 -0.008983  0.014724    2.69    0.0  \n",
              "2 -0.139097 -0.055353 -0.059752  378.66    0.0  \n",
              "3 -0.221929  0.062723  0.061458  123.50    0.0  \n",
              "4  0.502292  0.219422  0.215153   69.99    0.0  \n",
              "\n",
              "[5 rows x 31 columns]"
            ],
            "text/html": [
              "\n",
              "  <div id=\"df-1d851b63-440d-4a9c-950e-5e9206e4add9\" class=\"colab-df-container\">\n",
              "    <div>\n",
              "<style scoped>\n",
              "    .dataframe tbody tr th:only-of-type {\n",
              "        vertical-align: middle;\n",
              "    }\n",
              "\n",
              "    .dataframe tbody tr th {\n",
              "        vertical-align: top;\n",
              "    }\n",
              "\n",
              "    .dataframe thead th {\n",
              "        text-align: right;\n",
              "    }\n",
              "</style>\n",
              "<table border=\"1\" class=\"dataframe\">\n",
              "  <thead>\n",
              "    <tr style=\"text-align: right;\">\n",
              "      <th></th>\n",
              "      <th>Time</th>\n",
              "      <th>V1</th>\n",
              "      <th>V2</th>\n",
              "      <th>V3</th>\n",
              "      <th>V4</th>\n",
              "      <th>V5</th>\n",
              "      <th>V6</th>\n",
              "      <th>V7</th>\n",
              "      <th>V8</th>\n",
              "      <th>V9</th>\n",
              "      <th>...</th>\n",
              "      <th>V21</th>\n",
              "      <th>V22</th>\n",
              "      <th>V23</th>\n",
              "      <th>V24</th>\n",
              "      <th>V25</th>\n",
              "      <th>V26</th>\n",
              "      <th>V27</th>\n",
              "      <th>V28</th>\n",
              "      <th>Amount</th>\n",
              "      <th>Class</th>\n",
              "    </tr>\n",
              "  </thead>\n",
              "  <tbody>\n",
              "    <tr>\n",
              "      <th>0</th>\n",
              "      <td>0</td>\n",
              "      <td>-1.359807</td>\n",
              "      <td>-0.072781</td>\n",
              "      <td>2.536347</td>\n",
              "      <td>1.378155</td>\n",
              "      <td>-0.338321</td>\n",
              "      <td>0.462388</td>\n",
              "      <td>0.239599</td>\n",
              "      <td>0.098698</td>\n",
              "      <td>0.363787</td>\n",
              "      <td>...</td>\n",
              "      <td>-0.018307</td>\n",
              "      <td>0.277838</td>\n",
              "      <td>-0.110474</td>\n",
              "      <td>0.066928</td>\n",
              "      <td>0.128539</td>\n",
              "      <td>-0.189115</td>\n",
              "      <td>0.133558</td>\n",
              "      <td>-0.021053</td>\n",
              "      <td>149.62</td>\n",
              "      <td>0.0</td>\n",
              "    </tr>\n",
              "    <tr>\n",
              "      <th>1</th>\n",
              "      <td>0</td>\n",
              "      <td>1.191857</td>\n",
              "      <td>0.266151</td>\n",
              "      <td>0.166480</td>\n",
              "      <td>0.448154</td>\n",
              "      <td>0.060018</td>\n",
              "      <td>-0.082361</td>\n",
              "      <td>-0.078803</td>\n",
              "      <td>0.085102</td>\n",
              "      <td>-0.255425</td>\n",
              "      <td>...</td>\n",
              "      <td>-0.225775</td>\n",
              "      <td>-0.638672</td>\n",
              "      <td>0.101288</td>\n",
              "      <td>-0.339846</td>\n",
              "      <td>0.167170</td>\n",
              "      <td>0.125895</td>\n",
              "      <td>-0.008983</td>\n",
              "      <td>0.014724</td>\n",
              "      <td>2.69</td>\n",
              "      <td>0.0</td>\n",
              "    </tr>\n",
              "    <tr>\n",
              "      <th>2</th>\n",
              "      <td>1</td>\n",
              "      <td>-1.358354</td>\n",
              "      <td>-1.340163</td>\n",
              "      <td>1.773209</td>\n",
              "      <td>0.379780</td>\n",
              "      <td>-0.503198</td>\n",
              "      <td>1.800499</td>\n",
              "      <td>0.791461</td>\n",
              "      <td>0.247676</td>\n",
              "      <td>-1.514654</td>\n",
              "      <td>...</td>\n",
              "      <td>0.247998</td>\n",
              "      <td>0.771679</td>\n",
              "      <td>0.909412</td>\n",
              "      <td>-0.689281</td>\n",
              "      <td>-0.327642</td>\n",
              "      <td>-0.139097</td>\n",
              "      <td>-0.055353</td>\n",
              "      <td>-0.059752</td>\n",
              "      <td>378.66</td>\n",
              "      <td>0.0</td>\n",
              "    </tr>\n",
              "    <tr>\n",
              "      <th>3</th>\n",
              "      <td>1</td>\n",
              "      <td>-0.966272</td>\n",
              "      <td>-0.185226</td>\n",
              "      <td>1.792993</td>\n",
              "      <td>-0.863291</td>\n",
              "      <td>-0.010309</td>\n",
              "      <td>1.247203</td>\n",
              "      <td>0.237609</td>\n",
              "      <td>0.377436</td>\n",
              "      <td>-1.387024</td>\n",
              "      <td>...</td>\n",
              "      <td>-0.108300</td>\n",
              "      <td>0.005274</td>\n",
              "      <td>-0.190321</td>\n",
              "      <td>-1.175575</td>\n",
              "      <td>0.647376</td>\n",
              "      <td>-0.221929</td>\n",
              "      <td>0.062723</td>\n",
              "      <td>0.061458</td>\n",
              "      <td>123.50</td>\n",
              "      <td>0.0</td>\n",
              "    </tr>\n",
              "    <tr>\n",
              "      <th>4</th>\n",
              "      <td>2</td>\n",
              "      <td>-1.158233</td>\n",
              "      <td>0.877737</td>\n",
              "      <td>1.548718</td>\n",
              "      <td>0.403034</td>\n",
              "      <td>-0.407193</td>\n",
              "      <td>0.095921</td>\n",
              "      <td>0.592941</td>\n",
              "      <td>-0.270533</td>\n",
              "      <td>0.817739</td>\n",
              "      <td>...</td>\n",
              "      <td>-0.009431</td>\n",
              "      <td>0.798278</td>\n",
              "      <td>-0.137458</td>\n",
              "      <td>0.141267</td>\n",
              "      <td>-0.206010</td>\n",
              "      <td>0.502292</td>\n",
              "      <td>0.219422</td>\n",
              "      <td>0.215153</td>\n",
              "      <td>69.99</td>\n",
              "      <td>0.0</td>\n",
              "    </tr>\n",
              "  </tbody>\n",
              "</table>\n",
              "<p>5 rows × 31 columns</p>\n",
              "</div>\n",
              "    <div class=\"colab-df-buttons\">\n",
              "\n",
              "  <div class=\"colab-df-container\">\n",
              "    <button class=\"colab-df-convert\" onclick=\"convertToInteractive('df-1d851b63-440d-4a9c-950e-5e9206e4add9')\"\n",
              "            title=\"Convert this dataframe to an interactive table.\"\n",
              "            style=\"display:none;\">\n",
              "\n",
              "  <svg xmlns=\"http://www.w3.org/2000/svg\" height=\"24px\" viewBox=\"0 -960 960 960\">\n",
              "    <path d=\"M120-120v-720h720v720H120Zm60-500h600v-160H180v160Zm220 220h160v-160H400v160Zm0 220h160v-160H400v160ZM180-400h160v-160H180v160Zm440 0h160v-160H620v160ZM180-180h160v-160H180v160Zm440 0h160v-160H620v160Z\"/>\n",
              "  </svg>\n",
              "    </button>\n",
              "\n",
              "  <style>\n",
              "    .colab-df-container {\n",
              "      display:flex;\n",
              "      gap: 12px;\n",
              "    }\n",
              "\n",
              "    .colab-df-convert {\n",
              "      background-color: #E8F0FE;\n",
              "      border: none;\n",
              "      border-radius: 50%;\n",
              "      cursor: pointer;\n",
              "      display: none;\n",
              "      fill: #1967D2;\n",
              "      height: 32px;\n",
              "      padding: 0 0 0 0;\n",
              "      width: 32px;\n",
              "    }\n",
              "\n",
              "    .colab-df-convert:hover {\n",
              "      background-color: #E2EBFA;\n",
              "      box-shadow: 0px 1px 2px rgba(60, 64, 67, 0.3), 0px 1px 3px 1px rgba(60, 64, 67, 0.15);\n",
              "      fill: #174EA6;\n",
              "    }\n",
              "\n",
              "    .colab-df-buttons div {\n",
              "      margin-bottom: 4px;\n",
              "    }\n",
              "\n",
              "    [theme=dark] .colab-df-convert {\n",
              "      background-color: #3B4455;\n",
              "      fill: #D2E3FC;\n",
              "    }\n",
              "\n",
              "    [theme=dark] .colab-df-convert:hover {\n",
              "      background-color: #434B5C;\n",
              "      box-shadow: 0px 1px 3px 1px rgba(0, 0, 0, 0.15);\n",
              "      filter: drop-shadow(0px 1px 2px rgba(0, 0, 0, 0.3));\n",
              "      fill: #FFFFFF;\n",
              "    }\n",
              "  </style>\n",
              "\n",
              "    <script>\n",
              "      const buttonEl =\n",
              "        document.querySelector('#df-1d851b63-440d-4a9c-950e-5e9206e4add9 button.colab-df-convert');\n",
              "      buttonEl.style.display =\n",
              "        google.colab.kernel.accessAllowed ? 'block' : 'none';\n",
              "\n",
              "      async function convertToInteractive(key) {\n",
              "        const element = document.querySelector('#df-1d851b63-440d-4a9c-950e-5e9206e4add9');\n",
              "        const dataTable =\n",
              "          await google.colab.kernel.invokeFunction('convertToInteractive',\n",
              "                                                    [key], {});\n",
              "        if (!dataTable) return;\n",
              "\n",
              "        const docLinkHtml = 'Like what you see? Visit the ' +\n",
              "          '<a target=\"_blank\" href=https://colab.research.google.com/notebooks/data_table.ipynb>data table notebook</a>'\n",
              "          + ' to learn more about interactive tables.';\n",
              "        element.innerHTML = '';\n",
              "        dataTable['output_type'] = 'display_data';\n",
              "        await google.colab.output.renderOutput(dataTable, element);\n",
              "        const docLink = document.createElement('div');\n",
              "        docLink.innerHTML = docLinkHtml;\n",
              "        element.appendChild(docLink);\n",
              "      }\n",
              "    </script>\n",
              "  </div>\n",
              "\n",
              "\n",
              "<div id=\"df-bb9d6603-5ed8-4ebb-b43f-0b0af7e893f5\">\n",
              "  <button class=\"colab-df-quickchart\" onclick=\"quickchart('df-bb9d6603-5ed8-4ebb-b43f-0b0af7e893f5')\"\n",
              "            title=\"Suggest charts\"\n",
              "            style=\"display:none;\">\n",
              "\n",
              "<svg xmlns=\"http://www.w3.org/2000/svg\" height=\"24px\"viewBox=\"0 0 24 24\"\n",
              "     width=\"24px\">\n",
              "    <g>\n",
              "        <path d=\"M19 3H5c-1.1 0-2 .9-2 2v14c0 1.1.9 2 2 2h14c1.1 0 2-.9 2-2V5c0-1.1-.9-2-2-2zM9 17H7v-7h2v7zm4 0h-2V7h2v10zm4 0h-2v-4h2v4z\"/>\n",
              "    </g>\n",
              "</svg>\n",
              "  </button>\n",
              "\n",
              "<style>\n",
              "  .colab-df-quickchart {\n",
              "      --bg-color: #E8F0FE;\n",
              "      --fill-color: #1967D2;\n",
              "      --hover-bg-color: #E2EBFA;\n",
              "      --hover-fill-color: #174EA6;\n",
              "      --disabled-fill-color: #AAA;\n",
              "      --disabled-bg-color: #DDD;\n",
              "  }\n",
              "\n",
              "  [theme=dark] .colab-df-quickchart {\n",
              "      --bg-color: #3B4455;\n",
              "      --fill-color: #D2E3FC;\n",
              "      --hover-bg-color: #434B5C;\n",
              "      --hover-fill-color: #FFFFFF;\n",
              "      --disabled-bg-color: #3B4455;\n",
              "      --disabled-fill-color: #666;\n",
              "  }\n",
              "\n",
              "  .colab-df-quickchart {\n",
              "    background-color: var(--bg-color);\n",
              "    border: none;\n",
              "    border-radius: 50%;\n",
              "    cursor: pointer;\n",
              "    display: none;\n",
              "    fill: var(--fill-color);\n",
              "    height: 32px;\n",
              "    padding: 0;\n",
              "    width: 32px;\n",
              "  }\n",
              "\n",
              "  .colab-df-quickchart:hover {\n",
              "    background-color: var(--hover-bg-color);\n",
              "    box-shadow: 0 1px 2px rgba(60, 64, 67, 0.3), 0 1px 3px 1px rgba(60, 64, 67, 0.15);\n",
              "    fill: var(--button-hover-fill-color);\n",
              "  }\n",
              "\n",
              "  .colab-df-quickchart-complete:disabled,\n",
              "  .colab-df-quickchart-complete:disabled:hover {\n",
              "    background-color: var(--disabled-bg-color);\n",
              "    fill: var(--disabled-fill-color);\n",
              "    box-shadow: none;\n",
              "  }\n",
              "\n",
              "  .colab-df-spinner {\n",
              "    border: 2px solid var(--fill-color);\n",
              "    border-color: transparent;\n",
              "    border-bottom-color: var(--fill-color);\n",
              "    animation:\n",
              "      spin 1s steps(1) infinite;\n",
              "  }\n",
              "\n",
              "  @keyframes spin {\n",
              "    0% {\n",
              "      border-color: transparent;\n",
              "      border-bottom-color: var(--fill-color);\n",
              "      border-left-color: var(--fill-color);\n",
              "    }\n",
              "    20% {\n",
              "      border-color: transparent;\n",
              "      border-left-color: var(--fill-color);\n",
              "      border-top-color: var(--fill-color);\n",
              "    }\n",
              "    30% {\n",
              "      border-color: transparent;\n",
              "      border-left-color: var(--fill-color);\n",
              "      border-top-color: var(--fill-color);\n",
              "      border-right-color: var(--fill-color);\n",
              "    }\n",
              "    40% {\n",
              "      border-color: transparent;\n",
              "      border-right-color: var(--fill-color);\n",
              "      border-top-color: var(--fill-color);\n",
              "    }\n",
              "    60% {\n",
              "      border-color: transparent;\n",
              "      border-right-color: var(--fill-color);\n",
              "    }\n",
              "    80% {\n",
              "      border-color: transparent;\n",
              "      border-right-color: var(--fill-color);\n",
              "      border-bottom-color: var(--fill-color);\n",
              "    }\n",
              "    90% {\n",
              "      border-color: transparent;\n",
              "      border-bottom-color: var(--fill-color);\n",
              "    }\n",
              "  }\n",
              "</style>\n",
              "\n",
              "  <script>\n",
              "    async function quickchart(key) {\n",
              "      const quickchartButtonEl =\n",
              "        document.querySelector('#' + key + ' button');\n",
              "      quickchartButtonEl.disabled = true;  // To prevent multiple clicks.\n",
              "      quickchartButtonEl.classList.add('colab-df-spinner');\n",
              "      try {\n",
              "        const charts = await google.colab.kernel.invokeFunction(\n",
              "            'suggestCharts', [key], {});\n",
              "      } catch (error) {\n",
              "        console.error('Error during call to suggestCharts:', error);\n",
              "      }\n",
              "      quickchartButtonEl.classList.remove('colab-df-spinner');\n",
              "      quickchartButtonEl.classList.add('colab-df-quickchart-complete');\n",
              "    }\n",
              "    (() => {\n",
              "      let quickchartButtonEl =\n",
              "        document.querySelector('#df-bb9d6603-5ed8-4ebb-b43f-0b0af7e893f5 button');\n",
              "      quickchartButtonEl.style.display =\n",
              "        google.colab.kernel.accessAllowed ? 'block' : 'none';\n",
              "    })();\n",
              "  </script>\n",
              "</div>\n",
              "\n",
              "    </div>\n",
              "  </div>\n"
            ],
            "application/vnd.google.colaboratory.intrinsic+json": {
              "type": "dataframe",
              "variable_name": "df"
            }
          },
          "metadata": {},
          "execution_count": 6
        }
      ]
    },
    {
      "cell_type": "code",
      "source": [
        "df.describe()\n"
      ],
      "metadata": {
        "id": "MoqJdpSsM5Rh",
        "colab": {
          "base_uri": "https://localhost:8080/",
          "height": 349
        },
        "outputId": "c45ac361-6ef7-42ee-f9f4-f1902315020f"
      },
      "execution_count": null,
      "outputs": [
        {
          "output_type": "execute_result",
          "data": {
            "text/plain": [
              "               Time            V1            V2            V3            V4  \\\n",
              "count  75671.000000  75671.000000  75671.000000  75671.000000  75671.000000   \n",
              "mean   36193.207173     -0.252269     -0.028532      0.679187      0.165888   \n",
              "std    14851.776098      1.875352      1.659026      1.400937      1.370140   \n",
              "min        0.000000    -56.407510    -72.715728    -33.680984     -5.172595   \n",
              "25%    29864.500000     -1.014585     -0.595764      0.190457     -0.725451   \n",
              "50%    39129.000000     -0.246740      0.070406      0.766869      0.185226   \n",
              "75%    47574.000000      1.153659      0.724061      1.398814      1.048562   \n",
              "max    56191.000000      1.960497     18.902453      4.226108     16.715537   \n",
              "\n",
              "                 V5            V6            V7            V8            V9  \\\n",
              "count  75671.000000  75671.000000  75671.000000  75671.000000  75671.000000   \n",
              "mean      -0.274340      0.097744     -0.113685      0.054971      0.002703   \n",
              "std        1.386027      1.304902      1.251640      1.231437      1.150810   \n",
              "min      -42.147898    -26.160506    -31.764946    -73.216718     -9.283925   \n",
              "25%       -0.891860     -0.640608     -0.604594     -0.141564     -0.678889   \n",
              "50%       -0.306681     -0.153046     -0.073330      0.068138     -0.080878   \n",
              "75%        0.263600      0.491598      0.418256      0.346976      0.642829   \n",
              "max       34.801666     22.529298     36.677268     20.007208     10.392889   \n",
              "\n",
              "       ...           V21           V22           V23           V24  \\\n",
              "count  ...  75670.000000  75670.000000  75670.000000  75670.000000   \n",
              "mean   ...     -0.029042     -0.105222     -0.038332      0.006992   \n",
              "std    ...      0.734553      0.636195      0.619735      0.596355   \n",
              "min    ...    -34.830382    -10.933144    -26.751119     -2.836627   \n",
              "25%    ...     -0.225034     -0.524132     -0.178517     -0.324095   \n",
              "50%    ...     -0.059341     -0.079474     -0.050643      0.063547   \n",
              "75%    ...      0.116876      0.309343      0.080094      0.404621   \n",
              "max    ...     22.614889     10.503090     17.297845      4.014444   \n",
              "\n",
              "                V25           V26           V27           V28        Amount  \\\n",
              "count  75670.000000  75670.000000  75670.000000  75670.000000  75670.000000   \n",
              "mean       0.135088      0.025107      0.002372      0.003148     97.366062   \n",
              "std        0.439952      0.498120      0.388440      0.325450    270.801422   \n",
              "min       -7.495741     -2.534330     -9.390980     -9.617915      0.000000   \n",
              "25%       -0.128531     -0.327424     -0.063032     -0.005706      7.680000   \n",
              "50%        0.173333     -0.073586      0.009390      0.022866     26.720000   \n",
              "75%        0.422072      0.305913      0.082430      0.075946     89.000000   \n",
              "max        5.525093      3.517346     12.152401     33.847808  19656.530000   \n",
              "\n",
              "              Class  \n",
              "count  75670.000000  \n",
              "mean       0.002432  \n",
              "std        0.049252  \n",
              "min        0.000000  \n",
              "25%        0.000000  \n",
              "50%        0.000000  \n",
              "75%        0.000000  \n",
              "max        1.000000  \n",
              "\n",
              "[8 rows x 31 columns]"
            ],
            "text/html": [
              "\n",
              "  <div id=\"df-5c4cbbbd-7412-41e6-8b7d-e1bc6c211f03\" class=\"colab-df-container\">\n",
              "    <div>\n",
              "<style scoped>\n",
              "    .dataframe tbody tr th:only-of-type {\n",
              "        vertical-align: middle;\n",
              "    }\n",
              "\n",
              "    .dataframe tbody tr th {\n",
              "        vertical-align: top;\n",
              "    }\n",
              "\n",
              "    .dataframe thead th {\n",
              "        text-align: right;\n",
              "    }\n",
              "</style>\n",
              "<table border=\"1\" class=\"dataframe\">\n",
              "  <thead>\n",
              "    <tr style=\"text-align: right;\">\n",
              "      <th></th>\n",
              "      <th>Time</th>\n",
              "      <th>V1</th>\n",
              "      <th>V2</th>\n",
              "      <th>V3</th>\n",
              "      <th>V4</th>\n",
              "      <th>V5</th>\n",
              "      <th>V6</th>\n",
              "      <th>V7</th>\n",
              "      <th>V8</th>\n",
              "      <th>V9</th>\n",
              "      <th>...</th>\n",
              "      <th>V21</th>\n",
              "      <th>V22</th>\n",
              "      <th>V23</th>\n",
              "      <th>V24</th>\n",
              "      <th>V25</th>\n",
              "      <th>V26</th>\n",
              "      <th>V27</th>\n",
              "      <th>V28</th>\n",
              "      <th>Amount</th>\n",
              "      <th>Class</th>\n",
              "    </tr>\n",
              "  </thead>\n",
              "  <tbody>\n",
              "    <tr>\n",
              "      <th>count</th>\n",
              "      <td>75671.000000</td>\n",
              "      <td>75671.000000</td>\n",
              "      <td>75671.000000</td>\n",
              "      <td>75671.000000</td>\n",
              "      <td>75671.000000</td>\n",
              "      <td>75671.000000</td>\n",
              "      <td>75671.000000</td>\n",
              "      <td>75671.000000</td>\n",
              "      <td>75671.000000</td>\n",
              "      <td>75671.000000</td>\n",
              "      <td>...</td>\n",
              "      <td>75670.000000</td>\n",
              "      <td>75670.000000</td>\n",
              "      <td>75670.000000</td>\n",
              "      <td>75670.000000</td>\n",
              "      <td>75670.000000</td>\n",
              "      <td>75670.000000</td>\n",
              "      <td>75670.000000</td>\n",
              "      <td>75670.000000</td>\n",
              "      <td>75670.000000</td>\n",
              "      <td>75670.000000</td>\n",
              "    </tr>\n",
              "    <tr>\n",
              "      <th>mean</th>\n",
              "      <td>36193.207173</td>\n",
              "      <td>-0.252269</td>\n",
              "      <td>-0.028532</td>\n",
              "      <td>0.679187</td>\n",
              "      <td>0.165888</td>\n",
              "      <td>-0.274340</td>\n",
              "      <td>0.097744</td>\n",
              "      <td>-0.113685</td>\n",
              "      <td>0.054971</td>\n",
              "      <td>0.002703</td>\n",
              "      <td>...</td>\n",
              "      <td>-0.029042</td>\n",
              "      <td>-0.105222</td>\n",
              "      <td>-0.038332</td>\n",
              "      <td>0.006992</td>\n",
              "      <td>0.135088</td>\n",
              "      <td>0.025107</td>\n",
              "      <td>0.002372</td>\n",
              "      <td>0.003148</td>\n",
              "      <td>97.366062</td>\n",
              "      <td>0.002432</td>\n",
              "    </tr>\n",
              "    <tr>\n",
              "      <th>std</th>\n",
              "      <td>14851.776098</td>\n",
              "      <td>1.875352</td>\n",
              "      <td>1.659026</td>\n",
              "      <td>1.400937</td>\n",
              "      <td>1.370140</td>\n",
              "      <td>1.386027</td>\n",
              "      <td>1.304902</td>\n",
              "      <td>1.251640</td>\n",
              "      <td>1.231437</td>\n",
              "      <td>1.150810</td>\n",
              "      <td>...</td>\n",
              "      <td>0.734553</td>\n",
              "      <td>0.636195</td>\n",
              "      <td>0.619735</td>\n",
              "      <td>0.596355</td>\n",
              "      <td>0.439952</td>\n",
              "      <td>0.498120</td>\n",
              "      <td>0.388440</td>\n",
              "      <td>0.325450</td>\n",
              "      <td>270.801422</td>\n",
              "      <td>0.049252</td>\n",
              "    </tr>\n",
              "    <tr>\n",
              "      <th>min</th>\n",
              "      <td>0.000000</td>\n",
              "      <td>-56.407510</td>\n",
              "      <td>-72.715728</td>\n",
              "      <td>-33.680984</td>\n",
              "      <td>-5.172595</td>\n",
              "      <td>-42.147898</td>\n",
              "      <td>-26.160506</td>\n",
              "      <td>-31.764946</td>\n",
              "      <td>-73.216718</td>\n",
              "      <td>-9.283925</td>\n",
              "      <td>...</td>\n",
              "      <td>-34.830382</td>\n",
              "      <td>-10.933144</td>\n",
              "      <td>-26.751119</td>\n",
              "      <td>-2.836627</td>\n",
              "      <td>-7.495741</td>\n",
              "      <td>-2.534330</td>\n",
              "      <td>-9.390980</td>\n",
              "      <td>-9.617915</td>\n",
              "      <td>0.000000</td>\n",
              "      <td>0.000000</td>\n",
              "    </tr>\n",
              "    <tr>\n",
              "      <th>25%</th>\n",
              "      <td>29864.500000</td>\n",
              "      <td>-1.014585</td>\n",
              "      <td>-0.595764</td>\n",
              "      <td>0.190457</td>\n",
              "      <td>-0.725451</td>\n",
              "      <td>-0.891860</td>\n",
              "      <td>-0.640608</td>\n",
              "      <td>-0.604594</td>\n",
              "      <td>-0.141564</td>\n",
              "      <td>-0.678889</td>\n",
              "      <td>...</td>\n",
              "      <td>-0.225034</td>\n",
              "      <td>-0.524132</td>\n",
              "      <td>-0.178517</td>\n",
              "      <td>-0.324095</td>\n",
              "      <td>-0.128531</td>\n",
              "      <td>-0.327424</td>\n",
              "      <td>-0.063032</td>\n",
              "      <td>-0.005706</td>\n",
              "      <td>7.680000</td>\n",
              "      <td>0.000000</td>\n",
              "    </tr>\n",
              "    <tr>\n",
              "      <th>50%</th>\n",
              "      <td>39129.000000</td>\n",
              "      <td>-0.246740</td>\n",
              "      <td>0.070406</td>\n",
              "      <td>0.766869</td>\n",
              "      <td>0.185226</td>\n",
              "      <td>-0.306681</td>\n",
              "      <td>-0.153046</td>\n",
              "      <td>-0.073330</td>\n",
              "      <td>0.068138</td>\n",
              "      <td>-0.080878</td>\n",
              "      <td>...</td>\n",
              "      <td>-0.059341</td>\n",
              "      <td>-0.079474</td>\n",
              "      <td>-0.050643</td>\n",
              "      <td>0.063547</td>\n",
              "      <td>0.173333</td>\n",
              "      <td>-0.073586</td>\n",
              "      <td>0.009390</td>\n",
              "      <td>0.022866</td>\n",
              "      <td>26.720000</td>\n",
              "      <td>0.000000</td>\n",
              "    </tr>\n",
              "    <tr>\n",
              "      <th>75%</th>\n",
              "      <td>47574.000000</td>\n",
              "      <td>1.153659</td>\n",
              "      <td>0.724061</td>\n",
              "      <td>1.398814</td>\n",
              "      <td>1.048562</td>\n",
              "      <td>0.263600</td>\n",
              "      <td>0.491598</td>\n",
              "      <td>0.418256</td>\n",
              "      <td>0.346976</td>\n",
              "      <td>0.642829</td>\n",
              "      <td>...</td>\n",
              "      <td>0.116876</td>\n",
              "      <td>0.309343</td>\n",
              "      <td>0.080094</td>\n",
              "      <td>0.404621</td>\n",
              "      <td>0.422072</td>\n",
              "      <td>0.305913</td>\n",
              "      <td>0.082430</td>\n",
              "      <td>0.075946</td>\n",
              "      <td>89.000000</td>\n",
              "      <td>0.000000</td>\n",
              "    </tr>\n",
              "    <tr>\n",
              "      <th>max</th>\n",
              "      <td>56191.000000</td>\n",
              "      <td>1.960497</td>\n",
              "      <td>18.902453</td>\n",
              "      <td>4.226108</td>\n",
              "      <td>16.715537</td>\n",
              "      <td>34.801666</td>\n",
              "      <td>22.529298</td>\n",
              "      <td>36.677268</td>\n",
              "      <td>20.007208</td>\n",
              "      <td>10.392889</td>\n",
              "      <td>...</td>\n",
              "      <td>22.614889</td>\n",
              "      <td>10.503090</td>\n",
              "      <td>17.297845</td>\n",
              "      <td>4.014444</td>\n",
              "      <td>5.525093</td>\n",
              "      <td>3.517346</td>\n",
              "      <td>12.152401</td>\n",
              "      <td>33.847808</td>\n",
              "      <td>19656.530000</td>\n",
              "      <td>1.000000</td>\n",
              "    </tr>\n",
              "  </tbody>\n",
              "</table>\n",
              "<p>8 rows × 31 columns</p>\n",
              "</div>\n",
              "    <div class=\"colab-df-buttons\">\n",
              "\n",
              "  <div class=\"colab-df-container\">\n",
              "    <button class=\"colab-df-convert\" onclick=\"convertToInteractive('df-5c4cbbbd-7412-41e6-8b7d-e1bc6c211f03')\"\n",
              "            title=\"Convert this dataframe to an interactive table.\"\n",
              "            style=\"display:none;\">\n",
              "\n",
              "  <svg xmlns=\"http://www.w3.org/2000/svg\" height=\"24px\" viewBox=\"0 -960 960 960\">\n",
              "    <path d=\"M120-120v-720h720v720H120Zm60-500h600v-160H180v160Zm220 220h160v-160H400v160Zm0 220h160v-160H400v160ZM180-400h160v-160H180v160Zm440 0h160v-160H620v160ZM180-180h160v-160H180v160Zm440 0h160v-160H620v160Z\"/>\n",
              "  </svg>\n",
              "    </button>\n",
              "\n",
              "  <style>\n",
              "    .colab-df-container {\n",
              "      display:flex;\n",
              "      gap: 12px;\n",
              "    }\n",
              "\n",
              "    .colab-df-convert {\n",
              "      background-color: #E8F0FE;\n",
              "      border: none;\n",
              "      border-radius: 50%;\n",
              "      cursor: pointer;\n",
              "      display: none;\n",
              "      fill: #1967D2;\n",
              "      height: 32px;\n",
              "      padding: 0 0 0 0;\n",
              "      width: 32px;\n",
              "    }\n",
              "\n",
              "    .colab-df-convert:hover {\n",
              "      background-color: #E2EBFA;\n",
              "      box-shadow: 0px 1px 2px rgba(60, 64, 67, 0.3), 0px 1px 3px 1px rgba(60, 64, 67, 0.15);\n",
              "      fill: #174EA6;\n",
              "    }\n",
              "\n",
              "    .colab-df-buttons div {\n",
              "      margin-bottom: 4px;\n",
              "    }\n",
              "\n",
              "    [theme=dark] .colab-df-convert {\n",
              "      background-color: #3B4455;\n",
              "      fill: #D2E3FC;\n",
              "    }\n",
              "\n",
              "    [theme=dark] .colab-df-convert:hover {\n",
              "      background-color: #434B5C;\n",
              "      box-shadow: 0px 1px 3px 1px rgba(0, 0, 0, 0.15);\n",
              "      filter: drop-shadow(0px 1px 2px rgba(0, 0, 0, 0.3));\n",
              "      fill: #FFFFFF;\n",
              "    }\n",
              "  </style>\n",
              "\n",
              "    <script>\n",
              "      const buttonEl =\n",
              "        document.querySelector('#df-5c4cbbbd-7412-41e6-8b7d-e1bc6c211f03 button.colab-df-convert');\n",
              "      buttonEl.style.display =\n",
              "        google.colab.kernel.accessAllowed ? 'block' : 'none';\n",
              "\n",
              "      async function convertToInteractive(key) {\n",
              "        const element = document.querySelector('#df-5c4cbbbd-7412-41e6-8b7d-e1bc6c211f03');\n",
              "        const dataTable =\n",
              "          await google.colab.kernel.invokeFunction('convertToInteractive',\n",
              "                                                    [key], {});\n",
              "        if (!dataTable) return;\n",
              "\n",
              "        const docLinkHtml = 'Like what you see? Visit the ' +\n",
              "          '<a target=\"_blank\" href=https://colab.research.google.com/notebooks/data_table.ipynb>data table notebook</a>'\n",
              "          + ' to learn more about interactive tables.';\n",
              "        element.innerHTML = '';\n",
              "        dataTable['output_type'] = 'display_data';\n",
              "        await google.colab.output.renderOutput(dataTable, element);\n",
              "        const docLink = document.createElement('div');\n",
              "        docLink.innerHTML = docLinkHtml;\n",
              "        element.appendChild(docLink);\n",
              "      }\n",
              "    </script>\n",
              "  </div>\n",
              "\n",
              "\n",
              "<div id=\"df-1457f0c5-1bae-42d2-b0ee-076248fd8560\">\n",
              "  <button class=\"colab-df-quickchart\" onclick=\"quickchart('df-1457f0c5-1bae-42d2-b0ee-076248fd8560')\"\n",
              "            title=\"Suggest charts\"\n",
              "            style=\"display:none;\">\n",
              "\n",
              "<svg xmlns=\"http://www.w3.org/2000/svg\" height=\"24px\"viewBox=\"0 0 24 24\"\n",
              "     width=\"24px\">\n",
              "    <g>\n",
              "        <path d=\"M19 3H5c-1.1 0-2 .9-2 2v14c0 1.1.9 2 2 2h14c1.1 0 2-.9 2-2V5c0-1.1-.9-2-2-2zM9 17H7v-7h2v7zm4 0h-2V7h2v10zm4 0h-2v-4h2v4z\"/>\n",
              "    </g>\n",
              "</svg>\n",
              "  </button>\n",
              "\n",
              "<style>\n",
              "  .colab-df-quickchart {\n",
              "      --bg-color: #E8F0FE;\n",
              "      --fill-color: #1967D2;\n",
              "      --hover-bg-color: #E2EBFA;\n",
              "      --hover-fill-color: #174EA6;\n",
              "      --disabled-fill-color: #AAA;\n",
              "      --disabled-bg-color: #DDD;\n",
              "  }\n",
              "\n",
              "  [theme=dark] .colab-df-quickchart {\n",
              "      --bg-color: #3B4455;\n",
              "      --fill-color: #D2E3FC;\n",
              "      --hover-bg-color: #434B5C;\n",
              "      --hover-fill-color: #FFFFFF;\n",
              "      --disabled-bg-color: #3B4455;\n",
              "      --disabled-fill-color: #666;\n",
              "  }\n",
              "\n",
              "  .colab-df-quickchart {\n",
              "    background-color: var(--bg-color);\n",
              "    border: none;\n",
              "    border-radius: 50%;\n",
              "    cursor: pointer;\n",
              "    display: none;\n",
              "    fill: var(--fill-color);\n",
              "    height: 32px;\n",
              "    padding: 0;\n",
              "    width: 32px;\n",
              "  }\n",
              "\n",
              "  .colab-df-quickchart:hover {\n",
              "    background-color: var(--hover-bg-color);\n",
              "    box-shadow: 0 1px 2px rgba(60, 64, 67, 0.3), 0 1px 3px 1px rgba(60, 64, 67, 0.15);\n",
              "    fill: var(--button-hover-fill-color);\n",
              "  }\n",
              "\n",
              "  .colab-df-quickchart-complete:disabled,\n",
              "  .colab-df-quickchart-complete:disabled:hover {\n",
              "    background-color: var(--disabled-bg-color);\n",
              "    fill: var(--disabled-fill-color);\n",
              "    box-shadow: none;\n",
              "  }\n",
              "\n",
              "  .colab-df-spinner {\n",
              "    border: 2px solid var(--fill-color);\n",
              "    border-color: transparent;\n",
              "    border-bottom-color: var(--fill-color);\n",
              "    animation:\n",
              "      spin 1s steps(1) infinite;\n",
              "  }\n",
              "\n",
              "  @keyframes spin {\n",
              "    0% {\n",
              "      border-color: transparent;\n",
              "      border-bottom-color: var(--fill-color);\n",
              "      border-left-color: var(--fill-color);\n",
              "    }\n",
              "    20% {\n",
              "      border-color: transparent;\n",
              "      border-left-color: var(--fill-color);\n",
              "      border-top-color: var(--fill-color);\n",
              "    }\n",
              "    30% {\n",
              "      border-color: transparent;\n",
              "      border-left-color: var(--fill-color);\n",
              "      border-top-color: var(--fill-color);\n",
              "      border-right-color: var(--fill-color);\n",
              "    }\n",
              "    40% {\n",
              "      border-color: transparent;\n",
              "      border-right-color: var(--fill-color);\n",
              "      border-top-color: var(--fill-color);\n",
              "    }\n",
              "    60% {\n",
              "      border-color: transparent;\n",
              "      border-right-color: var(--fill-color);\n",
              "    }\n",
              "    80% {\n",
              "      border-color: transparent;\n",
              "      border-right-color: var(--fill-color);\n",
              "      border-bottom-color: var(--fill-color);\n",
              "    }\n",
              "    90% {\n",
              "      border-color: transparent;\n",
              "      border-bottom-color: var(--fill-color);\n",
              "    }\n",
              "  }\n",
              "</style>\n",
              "\n",
              "  <script>\n",
              "    async function quickchart(key) {\n",
              "      const quickchartButtonEl =\n",
              "        document.querySelector('#' + key + ' button');\n",
              "      quickchartButtonEl.disabled = true;  // To prevent multiple clicks.\n",
              "      quickchartButtonEl.classList.add('colab-df-spinner');\n",
              "      try {\n",
              "        const charts = await google.colab.kernel.invokeFunction(\n",
              "            'suggestCharts', [key], {});\n",
              "      } catch (error) {\n",
              "        console.error('Error during call to suggestCharts:', error);\n",
              "      }\n",
              "      quickchartButtonEl.classList.remove('colab-df-spinner');\n",
              "      quickchartButtonEl.classList.add('colab-df-quickchart-complete');\n",
              "    }\n",
              "    (() => {\n",
              "      let quickchartButtonEl =\n",
              "        document.querySelector('#df-1457f0c5-1bae-42d2-b0ee-076248fd8560 button');\n",
              "      quickchartButtonEl.style.display =\n",
              "        google.colab.kernel.accessAllowed ? 'block' : 'none';\n",
              "    })();\n",
              "  </script>\n",
              "</div>\n",
              "\n",
              "    </div>\n",
              "  </div>\n"
            ],
            "application/vnd.google.colaboratory.intrinsic+json": {
              "type": "dataframe"
            }
          },
          "metadata": {},
          "execution_count": 7
        }
      ]
    },
    {
      "cell_type": "code",
      "source": [
        "# check for missing values\n",
        "df.isnull().sum()"
      ],
      "metadata": {
        "id": "e2VFg5qqM9a5",
        "colab": {
          "base_uri": "https://localhost:8080/",
          "height": 1000
        },
        "outputId": "1d0f30f5-9233-4036-b6fe-b97dc5ff38d4"
      },
      "execution_count": null,
      "outputs": [
        {
          "output_type": "execute_result",
          "data": {
            "text/plain": [
              "Time      0\n",
              "V1        0\n",
              "V2        0\n",
              "V3        0\n",
              "V4        0\n",
              "V5        0\n",
              "V6        0\n",
              "V7        0\n",
              "V8        0\n",
              "V9        0\n",
              "V10       0\n",
              "V11       0\n",
              "V12       0\n",
              "V13       0\n",
              "V14       0\n",
              "V15       0\n",
              "V16       0\n",
              "V17       1\n",
              "V18       1\n",
              "V19       1\n",
              "V20       1\n",
              "V21       1\n",
              "V22       1\n",
              "V23       1\n",
              "V24       1\n",
              "V25       1\n",
              "V26       1\n",
              "V27       1\n",
              "V28       1\n",
              "Amount    1\n",
              "Class     1\n",
              "dtype: int64"
            ],
            "text/html": [
              "<div>\n",
              "<style scoped>\n",
              "    .dataframe tbody tr th:only-of-type {\n",
              "        vertical-align: middle;\n",
              "    }\n",
              "\n",
              "    .dataframe tbody tr th {\n",
              "        vertical-align: top;\n",
              "    }\n",
              "\n",
              "    .dataframe thead th {\n",
              "        text-align: right;\n",
              "    }\n",
              "</style>\n",
              "<table border=\"1\" class=\"dataframe\">\n",
              "  <thead>\n",
              "    <tr style=\"text-align: right;\">\n",
              "      <th></th>\n",
              "      <th>0</th>\n",
              "    </tr>\n",
              "  </thead>\n",
              "  <tbody>\n",
              "    <tr>\n",
              "      <th>Time</th>\n",
              "      <td>0</td>\n",
              "    </tr>\n",
              "    <tr>\n",
              "      <th>V1</th>\n",
              "      <td>0</td>\n",
              "    </tr>\n",
              "    <tr>\n",
              "      <th>V2</th>\n",
              "      <td>0</td>\n",
              "    </tr>\n",
              "    <tr>\n",
              "      <th>V3</th>\n",
              "      <td>0</td>\n",
              "    </tr>\n",
              "    <tr>\n",
              "      <th>V4</th>\n",
              "      <td>0</td>\n",
              "    </tr>\n",
              "    <tr>\n",
              "      <th>V5</th>\n",
              "      <td>0</td>\n",
              "    </tr>\n",
              "    <tr>\n",
              "      <th>V6</th>\n",
              "      <td>0</td>\n",
              "    </tr>\n",
              "    <tr>\n",
              "      <th>V7</th>\n",
              "      <td>0</td>\n",
              "    </tr>\n",
              "    <tr>\n",
              "      <th>V8</th>\n",
              "      <td>0</td>\n",
              "    </tr>\n",
              "    <tr>\n",
              "      <th>V9</th>\n",
              "      <td>0</td>\n",
              "    </tr>\n",
              "    <tr>\n",
              "      <th>V10</th>\n",
              "      <td>0</td>\n",
              "    </tr>\n",
              "    <tr>\n",
              "      <th>V11</th>\n",
              "      <td>0</td>\n",
              "    </tr>\n",
              "    <tr>\n",
              "      <th>V12</th>\n",
              "      <td>0</td>\n",
              "    </tr>\n",
              "    <tr>\n",
              "      <th>V13</th>\n",
              "      <td>0</td>\n",
              "    </tr>\n",
              "    <tr>\n",
              "      <th>V14</th>\n",
              "      <td>0</td>\n",
              "    </tr>\n",
              "    <tr>\n",
              "      <th>V15</th>\n",
              "      <td>0</td>\n",
              "    </tr>\n",
              "    <tr>\n",
              "      <th>V16</th>\n",
              "      <td>0</td>\n",
              "    </tr>\n",
              "    <tr>\n",
              "      <th>V17</th>\n",
              "      <td>1</td>\n",
              "    </tr>\n",
              "    <tr>\n",
              "      <th>V18</th>\n",
              "      <td>1</td>\n",
              "    </tr>\n",
              "    <tr>\n",
              "      <th>V19</th>\n",
              "      <td>1</td>\n",
              "    </tr>\n",
              "    <tr>\n",
              "      <th>V20</th>\n",
              "      <td>1</td>\n",
              "    </tr>\n",
              "    <tr>\n",
              "      <th>V21</th>\n",
              "      <td>1</td>\n",
              "    </tr>\n",
              "    <tr>\n",
              "      <th>V22</th>\n",
              "      <td>1</td>\n",
              "    </tr>\n",
              "    <tr>\n",
              "      <th>V23</th>\n",
              "      <td>1</td>\n",
              "    </tr>\n",
              "    <tr>\n",
              "      <th>V24</th>\n",
              "      <td>1</td>\n",
              "    </tr>\n",
              "    <tr>\n",
              "      <th>V25</th>\n",
              "      <td>1</td>\n",
              "    </tr>\n",
              "    <tr>\n",
              "      <th>V26</th>\n",
              "      <td>1</td>\n",
              "    </tr>\n",
              "    <tr>\n",
              "      <th>V27</th>\n",
              "      <td>1</td>\n",
              "    </tr>\n",
              "    <tr>\n",
              "      <th>V28</th>\n",
              "      <td>1</td>\n",
              "    </tr>\n",
              "    <tr>\n",
              "      <th>Amount</th>\n",
              "      <td>1</td>\n",
              "    </tr>\n",
              "    <tr>\n",
              "      <th>Class</th>\n",
              "      <td>1</td>\n",
              "    </tr>\n",
              "  </tbody>\n",
              "</table>\n",
              "</div><br><label><b>dtype:</b> int64</label>"
            ]
          },
          "metadata": {},
          "execution_count": 8
        }
      ]
    },
    {
      "cell_type": "code",
      "source": [
        "percentage_fraudulent = 100 * df[df.Class == 1].shape[0]/df[df.Class == 0].shape[0]\n",
        "print('The percentage of fraudulent transactions is : %.2f percent' % percentage_fraudulent )"
      ],
      "metadata": {
        "id": "C1Y_regeNCby",
        "colab": {
          "base_uri": "https://localhost:8080/"
        },
        "outputId": "9bbf260e-54ce-4879-8c91-605bbfb8f8d3"
      },
      "execution_count": null,
      "outputs": [
        {
          "output_type": "stream",
          "name": "stdout",
          "text": [
            "The percentage of fraudulent transactions is : 0.24 percent\n"
          ]
        }
      ]
    },
    {
      "cell_type": "code",
      "source": [
        "features_list = list(df.columns)\n",
        "features_list.remove(\"Class\")\n",
        "print(features_list)"
      ],
      "metadata": {
        "id": "DGW0QoGqNF40",
        "colab": {
          "base_uri": "https://localhost:8080/"
        },
        "outputId": "402a2945-f32c-4b6f-caa5-a87b39f5bdcc"
      },
      "execution_count": null,
      "outputs": [
        {
          "output_type": "stream",
          "name": "stdout",
          "text": [
            "['Time', 'V1', 'V2', 'V3', 'V4', 'V5', 'V6', 'V7', 'V8', 'V9', 'V10', 'V11', 'V12', 'V13', 'V14', 'V15', 'V16', 'V17', 'V18', 'V19', 'V20', 'V21', 'V22', 'V23', 'V24', 'V25', 'V26', 'V27', 'V28', 'Amount']\n"
          ]
        }
      ]
    },
    {
      "cell_type": "code",
      "source": [
        "corr_Class = df.corr()['Class']\n",
        "print(corr_Class)"
      ],
      "metadata": {
        "id": "QB7JvMkTNHyc",
        "colab": {
          "base_uri": "https://localhost:8080/"
        },
        "outputId": "39507646-ae67-4ba7-ec16-b1de833ffbc7"
      },
      "execution_count": null,
      "outputs": [
        {
          "output_type": "stream",
          "name": "stdout",
          "text": [
            "Time     -0.015537\n",
            "V1       -0.170982\n",
            "V2        0.142525\n",
            "V3       -0.340238\n",
            "V4        0.183246\n",
            "V5       -0.166246\n",
            "V6       -0.082019\n",
            "V7       -0.273957\n",
            "V8        0.127651\n",
            "V9       -0.134594\n",
            "V10      -0.304187\n",
            "V11       0.205182\n",
            "V12      -0.309356\n",
            "V13       0.004151\n",
            "V14      -0.392613\n",
            "V15       0.002322\n",
            "V16      -0.281084\n",
            "V17      -0.441090\n",
            "V18      -0.180523\n",
            "V19       0.051382\n",
            "V20       0.022105\n",
            "V21       0.056312\n",
            "V22      -0.005868\n",
            "V23      -0.015636\n",
            "V24      -0.006942\n",
            "V25       0.011767\n",
            "V26       0.007069\n",
            "V27       0.074462\n",
            "V28       0.006904\n",
            "Amount   -0.000352\n",
            "Class     1.000000\n",
            "Name: Class, dtype: float64\n"
          ]
        }
      ]
    },
    {
      "cell_type": "code",
      "source": [
        "corr_Class = df.corr()['Class']\n",
        "print(corr_Class)"
      ],
      "metadata": {
        "id": "9fFNjc2KNO1N",
        "colab": {
          "base_uri": "https://localhost:8080/"
        },
        "outputId": "78bcbebb-e3e3-492e-d9e6-95af7636b8c8"
      },
      "execution_count": null,
      "outputs": [
        {
          "output_type": "stream",
          "name": "stdout",
          "text": [
            "Time     -0.015537\n",
            "V1       -0.170982\n",
            "V2        0.142525\n",
            "V3       -0.340238\n",
            "V4        0.183246\n",
            "V5       -0.166246\n",
            "V6       -0.082019\n",
            "V7       -0.273957\n",
            "V8        0.127651\n",
            "V9       -0.134594\n",
            "V10      -0.304187\n",
            "V11       0.205182\n",
            "V12      -0.309356\n",
            "V13       0.004151\n",
            "V14      -0.392613\n",
            "V15       0.002322\n",
            "V16      -0.281084\n",
            "V17      -0.441090\n",
            "V18      -0.180523\n",
            "V19       0.051382\n",
            "V20       0.022105\n",
            "V21       0.056312\n",
            "V22      -0.005868\n",
            "V23      -0.015636\n",
            "V24      -0.006942\n",
            "V25       0.011767\n",
            "V26       0.007069\n",
            "V27       0.074462\n",
            "V28       0.006904\n",
            "Amount   -0.000352\n",
            "Class     1.000000\n",
            "Name: Class, dtype: float64\n"
          ]
        }
      ]
    },
    {
      "cell_type": "code",
      "source": [
        "corr_Class = corr_Class[:-1].abs().sort_values(ascending = False)\n",
        "corr_Class"
      ],
      "metadata": {
        "id": "3k_-kmCpNRml",
        "colab": {
          "base_uri": "https://localhost:8080/",
          "height": 1000
        },
        "outputId": "c37ab177-c34d-4b3e-ef6a-86341f7fe95e"
      },
      "execution_count": null,
      "outputs": [
        {
          "output_type": "execute_result",
          "data": {
            "text/plain": [
              "V17       0.441090\n",
              "V14       0.392613\n",
              "V3        0.340238\n",
              "V12       0.309356\n",
              "V10       0.304187\n",
              "V16       0.281084\n",
              "V7        0.273957\n",
              "V11       0.205182\n",
              "V4        0.183246\n",
              "V18       0.180523\n",
              "V1        0.170982\n",
              "V5        0.166246\n",
              "V2        0.142525\n",
              "V9        0.134594\n",
              "V8        0.127651\n",
              "V6        0.082019\n",
              "V27       0.074462\n",
              "V21       0.056312\n",
              "V19       0.051382\n",
              "V20       0.022105\n",
              "V23       0.015636\n",
              "Time      0.015537\n",
              "V25       0.011767\n",
              "V26       0.007069\n",
              "V24       0.006942\n",
              "V28       0.006904\n",
              "V22       0.005868\n",
              "V13       0.004151\n",
              "V15       0.002322\n",
              "Amount    0.000352\n",
              "Name: Class, dtype: float64"
            ],
            "text/html": [
              "<div>\n",
              "<style scoped>\n",
              "    .dataframe tbody tr th:only-of-type {\n",
              "        vertical-align: middle;\n",
              "    }\n",
              "\n",
              "    .dataframe tbody tr th {\n",
              "        vertical-align: top;\n",
              "    }\n",
              "\n",
              "    .dataframe thead th {\n",
              "        text-align: right;\n",
              "    }\n",
              "</style>\n",
              "<table border=\"1\" class=\"dataframe\">\n",
              "  <thead>\n",
              "    <tr style=\"text-align: right;\">\n",
              "      <th></th>\n",
              "      <th>Class</th>\n",
              "    </tr>\n",
              "  </thead>\n",
              "  <tbody>\n",
              "    <tr>\n",
              "      <th>V17</th>\n",
              "      <td>0.441090</td>\n",
              "    </tr>\n",
              "    <tr>\n",
              "      <th>V14</th>\n",
              "      <td>0.392613</td>\n",
              "    </tr>\n",
              "    <tr>\n",
              "      <th>V3</th>\n",
              "      <td>0.340238</td>\n",
              "    </tr>\n",
              "    <tr>\n",
              "      <th>V12</th>\n",
              "      <td>0.309356</td>\n",
              "    </tr>\n",
              "    <tr>\n",
              "      <th>V10</th>\n",
              "      <td>0.304187</td>\n",
              "    </tr>\n",
              "    <tr>\n",
              "      <th>V16</th>\n",
              "      <td>0.281084</td>\n",
              "    </tr>\n",
              "    <tr>\n",
              "      <th>V7</th>\n",
              "      <td>0.273957</td>\n",
              "    </tr>\n",
              "    <tr>\n",
              "      <th>V11</th>\n",
              "      <td>0.205182</td>\n",
              "    </tr>\n",
              "    <tr>\n",
              "      <th>V4</th>\n",
              "      <td>0.183246</td>\n",
              "    </tr>\n",
              "    <tr>\n",
              "      <th>V18</th>\n",
              "      <td>0.180523</td>\n",
              "    </tr>\n",
              "    <tr>\n",
              "      <th>V1</th>\n",
              "      <td>0.170982</td>\n",
              "    </tr>\n",
              "    <tr>\n",
              "      <th>V5</th>\n",
              "      <td>0.166246</td>\n",
              "    </tr>\n",
              "    <tr>\n",
              "      <th>V2</th>\n",
              "      <td>0.142525</td>\n",
              "    </tr>\n",
              "    <tr>\n",
              "      <th>V9</th>\n",
              "      <td>0.134594</td>\n",
              "    </tr>\n",
              "    <tr>\n",
              "      <th>V8</th>\n",
              "      <td>0.127651</td>\n",
              "    </tr>\n",
              "    <tr>\n",
              "      <th>V6</th>\n",
              "      <td>0.082019</td>\n",
              "    </tr>\n",
              "    <tr>\n",
              "      <th>V27</th>\n",
              "      <td>0.074462</td>\n",
              "    </tr>\n",
              "    <tr>\n",
              "      <th>V21</th>\n",
              "      <td>0.056312</td>\n",
              "    </tr>\n",
              "    <tr>\n",
              "      <th>V19</th>\n",
              "      <td>0.051382</td>\n",
              "    </tr>\n",
              "    <tr>\n",
              "      <th>V20</th>\n",
              "      <td>0.022105</td>\n",
              "    </tr>\n",
              "    <tr>\n",
              "      <th>V23</th>\n",
              "      <td>0.015636</td>\n",
              "    </tr>\n",
              "    <tr>\n",
              "      <th>Time</th>\n",
              "      <td>0.015537</td>\n",
              "    </tr>\n",
              "    <tr>\n",
              "      <th>V25</th>\n",
              "      <td>0.011767</td>\n",
              "    </tr>\n",
              "    <tr>\n",
              "      <th>V26</th>\n",
              "      <td>0.007069</td>\n",
              "    </tr>\n",
              "    <tr>\n",
              "      <th>V24</th>\n",
              "      <td>0.006942</td>\n",
              "    </tr>\n",
              "    <tr>\n",
              "      <th>V28</th>\n",
              "      <td>0.006904</td>\n",
              "    </tr>\n",
              "    <tr>\n",
              "      <th>V22</th>\n",
              "      <td>0.005868</td>\n",
              "    </tr>\n",
              "    <tr>\n",
              "      <th>V13</th>\n",
              "      <td>0.004151</td>\n",
              "    </tr>\n",
              "    <tr>\n",
              "      <th>V15</th>\n",
              "      <td>0.002322</td>\n",
              "    </tr>\n",
              "    <tr>\n",
              "      <th>Amount</th>\n",
              "      <td>0.000352</td>\n",
              "    </tr>\n",
              "  </tbody>\n",
              "</table>\n",
              "</div><br><label><b>dtype:</b> float64</label>"
            ]
          },
          "metadata": {},
          "execution_count": 13
        }
      ]
    },
    {
      "cell_type": "code",
      "source": [
        "relevant_features = list(corr_Class[np.abs(corr_Class) > 0.09].index)\n",
        "print(relevant_features)"
      ],
      "metadata": {
        "id": "QiGPxmqmNTxo",
        "colab": {
          "base_uri": "https://localhost:8080/"
        },
        "outputId": "b57e0a8d-954e-4646-f36c-c6bd84918732"
      },
      "execution_count": null,
      "outputs": [
        {
          "output_type": "stream",
          "name": "stdout",
          "text": [
            "['V17', 'V14', 'V3', 'V12', 'V10', 'V16', 'V7', 'V11', 'V4', 'V18', 'V1', 'V5', 'V2', 'V9', 'V8']\n"
          ]
        }
      ]
    },
    {
      "cell_type": "code",
      "source": [
        "X = df.loc[:, relevant_features]\n",
        "y = df['Class']\n",
        "print(df['Class'].isnull().sum())\n",
        "print('Shape of X: ' , X.shape)\n",
        "print('Shape of y: ' , y.shape)"
      ],
      "metadata": {
        "id": "VbSlYi0dNXE0",
        "colab": {
          "base_uri": "https://localhost:8080/"
        },
        "outputId": "b8648f61-acf9-4caa-93eb-ed43d8446a62"
      },
      "execution_count": null,
      "outputs": [
        {
          "output_type": "stream",
          "name": "stdout",
          "text": [
            "1\n",
            "Shape of X:  (75671, 15)\n",
            "Shape of y:  (75671,)\n"
          ]
        }
      ]
    },
    {
      "cell_type": "code",
      "source": [
        "from sklearn.model_selection import train_test_split\n",
        "X_train, X_test, y_train, y_test = train_test_split(X, y, test_size=0.25, random_state=42)\n",
        "print('Shape of X_train: ' , X_train.shape)\n",
        "print('Shape of y_train: ' , y_train.shape)\n",
        "print('\\nShape of X_test: ' , X_test.shape)\n",
        "print('Shape of y_test: ' , y_test.shape)"
      ],
      "metadata": {
        "id": "Gh4FYAgKNYNu",
        "colab": {
          "base_uri": "https://localhost:8080/"
        },
        "outputId": "71815d21-ed65-460a-9817-d2d03f067f5e"
      },
      "execution_count": null,
      "outputs": [
        {
          "output_type": "stream",
          "name": "stdout",
          "text": [
            "Shape of X_train:  (56753, 15)\n",
            "Shape of y_train:  (56753,)\n",
            "\n",
            "Shape of X_test:  (18918, 15)\n",
            "Shape of y_test:  (18918,)\n"
          ]
        }
      ]
    },
    {
      "cell_type": "code",
      "source": [
        "print(X_test)"
      ],
      "metadata": {
        "colab": {
          "base_uri": "https://localhost:8080/"
        },
        "id": "ZuJEdoPhZM8x",
        "outputId": "ee9a4a1c-08ad-499a-a912-ae701bb1e454"
      },
      "execution_count": null,
      "outputs": [
        {
          "output_type": "stream",
          "name": "stdout",
          "text": [
            "            V17       V14        V3       V12       V10       V16        V7  \\\n",
            "21271 -0.480277 -0.008997  1.105649  0.433770 -0.039389  0.506421 -0.805439   \n",
            "30218 -0.151315  0.134542 -0.098633 -0.132004 -0.084589 -0.600556  0.107901   \n",
            "26931 -0.554281  0.242177  0.016829  0.195300 -0.051870  0.264887  0.221522   \n",
            "5073   0.369626  0.916249  0.104242 -2.059969 -0.683753  0.652377  0.051956   \n",
            "45512  1.184954 -1.692515  1.481391 -0.314629  0.143052  0.895604  0.362242   \n",
            "...         ...       ...       ...       ...       ...       ...       ...   \n",
            "51793  0.205928 -0.625707  1.488707 -1.067484  1.088987 -0.198767 -0.337252   \n",
            "25202  0.285468  0.186549  0.452190  0.012665  0.759789  1.095995 -0.686600   \n",
            "3396  -0.073880  0.174107  1.048073  0.465068 -0.154735  0.285563 -0.786240   \n",
            "4246   1.567286  1.133784  0.792134 -2.142488  0.101661  0.469074 -0.667352   \n",
            "56763  0.288331  0.869419 -0.215743 -0.050209 -1.098835 -0.736228  0.201724   \n",
            "\n",
            "            V11        V4       V18        V1        V5        V2        V9  \\\n",
            "21271  0.485326  0.685864  0.501922  1.155629 -0.979439 -0.307500  0.860971   \n",
            "30218 -0.628973  0.189514  0.215879 -0.345560  2.540776  0.759748 -0.469560   \n",
            "26931 -0.712518  0.551955 -0.204094  1.234496 -0.144764  0.130304 -0.008209   \n",
            "5073   0.287349  0.699198  0.137482  1.299437  0.183874  0.478576  1.234677   \n",
            "45512  0.754182 -1.173132 -1.745534 -0.315109 -0.274444  0.499701 -1.272162   \n",
            "...         ...       ...       ...       ...       ...       ...       ...   \n",
            "51793 -0.987366 -2.082967  0.203114 -0.180961 -0.964359 -0.261793 -2.278396   \n",
            "25202  1.667982 -0.832402 -1.475192  1.329679 -0.838476 -0.532700 -1.034812   \n",
            "3396   1.310792  0.251984  0.047265  0.890647 -1.277881 -0.840638  0.814234   \n",
            "4246   1.713919 -0.469097 -2.457629  1.239582 -0.762769 -0.421236  0.298620   \n",
            "56763  0.005880 -1.387715 -0.935736  1.064646 -0.669711 -0.612450  1.248930   \n",
            "\n",
            "             V8  \n",
            "21271  0.301779  \n",
            "30218  0.879323  \n",
            "26931 -0.253435  \n",
            "5073  -0.285453  \n",
            "45512 -0.365199  \n",
            "...         ...  \n",
            "51793 -0.153670  \n",
            "25202  0.083276  \n",
            "3396   0.334142  \n",
            "4246  -0.094037  \n",
            "56763 -0.153911  \n",
            "\n",
            "[18918 rows x 15 columns]\n"
          ]
        }
      ]
    },
    {
      "cell_type": "code",
      "source": [
        "# %% [code]\n",
        "X = df.loc[:, relevant_features]\n",
        "y = df['Class']\n",
        "print('Shape of X: ' , X.shape)\n",
        "print('Shape of y: ' , y.shape)"
      ],
      "metadata": {
        "id": "A2CWIQGCfCt_",
        "colab": {
          "base_uri": "https://localhost:8080/"
        },
        "outputId": "c2cdee2d-5ae0-4489-9e98-e7aee288c6b3"
      },
      "execution_count": null,
      "outputs": [
        {
          "output_type": "stream",
          "name": "stdout",
          "text": [
            "Shape of X:  (75671, 15)\n",
            "Shape of y:  (75671,)\n"
          ]
        }
      ]
    },
    {
      "cell_type": "code",
      "source": [
        "# %% [code]\n",
        "from sklearn.model_selection import train_test_split\n",
        "X_train, X_test, y_train, y_test = train_test_split(X, y, test_size=0.25, random_state=42)\n",
        "print('Shape of X_train: ' , X_train.shape)\n",
        "print('Shape of y_train: ' , y_train.shape)\n",
        "print('\\nShape of X_test: ' , X_test.shape)\n",
        "print('Shape of y_test: ' , y_test.shape)"
      ],
      "metadata": {
        "id": "MSieYDepfD-o",
        "colab": {
          "base_uri": "https://localhost:8080/"
        },
        "outputId": "a7c2caf5-a608-4842-f727-f7f5a660de99"
      },
      "execution_count": null,
      "outputs": [
        {
          "output_type": "stream",
          "name": "stdout",
          "text": [
            "Shape of X_train:  (56753, 15)\n",
            "Shape of y_train:  (56753,)\n",
            "\n",
            "Shape of X_test:  (18918, 15)\n",
            "Shape of y_test:  (18918,)\n"
          ]
        }
      ]
    },
    {
      "cell_type": "code",
      "source": [
        "print(relevant_features)\n",
        "X = df.loc[:, relevant_features]\n",
        "y = df['Class']\n",
        "print('Shape of X: ' , X.shape)\n",
        "print('Shape of y: ' , y.shape)"
      ],
      "metadata": {
        "id": "k9s6tI3HfGk0",
        "colab": {
          "base_uri": "https://localhost:8080/"
        },
        "outputId": "8d1e32a1-fdd0-42de-f442-35a7bd3df465"
      },
      "execution_count": null,
      "outputs": [
        {
          "output_type": "stream",
          "name": "stdout",
          "text": [
            "['V17', 'V14', 'V3', 'V12', 'V10', 'V16', 'V7', 'V11', 'V4', 'V18', 'V1', 'V5', 'V2', 'V9', 'V8']\n",
            "Shape of X:  (75671, 15)\n",
            "Shape of y:  (75671,)\n"
          ]
        }
      ]
    },
    {
      "cell_type": "code",
      "source": [
        "print(df.head())\n",
        "print(df.columns)\n",
        "print(relevant_features)"
      ],
      "metadata": {
        "id": "t3QhQGAufJtD",
        "colab": {
          "base_uri": "https://localhost:8080/"
        },
        "outputId": "4e14deaf-1e67-4d40-9444-9d0ecf7c7249"
      },
      "execution_count": null,
      "outputs": [
        {
          "output_type": "stream",
          "name": "stdout",
          "text": [
            "   Time        V1        V2        V3        V4        V5        V6        V7  \\\n",
            "0     0 -1.359807 -0.072781  2.536347  1.378155 -0.338321  0.462388  0.239599   \n",
            "1     0  1.191857  0.266151  0.166480  0.448154  0.060018 -0.082361 -0.078803   \n",
            "2     1 -1.358354 -1.340163  1.773209  0.379780 -0.503198  1.800499  0.791461   \n",
            "3     1 -0.966272 -0.185226  1.792993 -0.863291 -0.010309  1.247203  0.237609   \n",
            "4     2 -1.158233  0.877737  1.548718  0.403034 -0.407193  0.095921  0.592941   \n",
            "\n",
            "         V8        V9  ...       V21       V22       V23       V24       V25  \\\n",
            "0  0.098698  0.363787  ... -0.018307  0.277838 -0.110474  0.066928  0.128539   \n",
            "1  0.085102 -0.255425  ... -0.225775 -0.638672  0.101288 -0.339846  0.167170   \n",
            "2  0.247676 -1.514654  ...  0.247998  0.771679  0.909412 -0.689281 -0.327642   \n",
            "3  0.377436 -1.387024  ... -0.108300  0.005274 -0.190321 -1.175575  0.647376   \n",
            "4 -0.270533  0.817739  ... -0.009431  0.798278 -0.137458  0.141267 -0.206010   \n",
            "\n",
            "        V26       V27       V28  Amount  Class  \n",
            "0 -0.189115  0.133558 -0.021053  149.62    0.0  \n",
            "1  0.125895 -0.008983  0.014724    2.69    0.0  \n",
            "2 -0.139097 -0.055353 -0.059752  378.66    0.0  \n",
            "3 -0.221929  0.062723  0.061458  123.50    0.0  \n",
            "4  0.502292  0.219422  0.215153   69.99    0.0  \n",
            "\n",
            "[5 rows x 31 columns]\n",
            "Index(['Time', 'V1', 'V2', 'V3', 'V4', 'V5', 'V6', 'V7', 'V8', 'V9', 'V10',\n",
            "       'V11', 'V12', 'V13', 'V14', 'V15', 'V16', 'V17', 'V18', 'V19', 'V20',\n",
            "       'V21', 'V22', 'V23', 'V24', 'V25', 'V26', 'V27', 'V28', 'Amount',\n",
            "       'Class'],\n",
            "      dtype='object')\n",
            "['V17', 'V14', 'V3', 'V12', 'V10', 'V16', 'V7', 'V11', 'V4', 'V18', 'V1', 'V5', 'V2', 'V9', 'V8']\n"
          ]
        }
      ]
    },
    {
      "cell_type": "code",
      "source": [
        "from sklearn.preprocessing import StandardScaler\n",
        "sc = StandardScaler()"
      ],
      "metadata": {
        "id": "GBzXiU_eNcL6"
      },
      "execution_count": null,
      "outputs": []
    },
    {
      "cell_type": "code",
      "source": [
        "print('Shape of X_train before scaling:', X_train.shape)"
      ],
      "metadata": {
        "id": "pvb0uXBwfQXl",
        "colab": {
          "base_uri": "https://localhost:8080/"
        },
        "outputId": "52741824-8cf2-48b6-bce7-34ae0c1e0066"
      },
      "execution_count": null,
      "outputs": [
        {
          "output_type": "stream",
          "name": "stdout",
          "text": [
            "Shape of X_train before scaling: (56753, 15)\n"
          ]
        }
      ]
    },
    {
      "cell_type": "code",
      "source": [
        "print(X_train.shape)\n",
        "print(X_train.head())\n"
      ],
      "metadata": {
        "id": "Z4dIokCCgHfL",
        "colab": {
          "base_uri": "https://localhost:8080/"
        },
        "outputId": "bdf68659-aea9-45fd-fa30-00f45442a8fd"
      },
      "execution_count": null,
      "outputs": [
        {
          "output_type": "stream",
          "name": "stdout",
          "text": [
            "(56753, 15)\n",
            "            V17       V14        V3       V12       V10       V16        V7  \\\n",
            "21096 -0.259225 -1.603538  2.989155  0.978159 -0.590724 -0.244473 -0.369584   \n",
            "25588 -0.456404 -0.002015 -0.391479 -1.005332  0.080415  1.454209 -0.566007   \n",
            "51800 -0.382056  0.001860  1.141220  0.741109  0.578057  0.477644 -0.062228   \n",
            "6280   0.663797  2.048391  2.054227 -2.583131  0.399833  0.020311  0.239295   \n",
            "49110  0.491888 -0.360533  1.577647 -0.320214  0.385570 -0.283906 -0.783090   \n",
            "\n",
            "            V11        V4       V18        V1        V5        V2        V9  \\\n",
            "21096 -0.774419  0.424337  0.945101 -0.678124 -0.458720 -0.186876  0.982392   \n",
            "25588 -0.306214 -2.525857 -0.767326 -1.204503  2.969665 -1.457192 -1.500708   \n",
            "51800  0.203206  2.500945 -1.021577  1.104883 -0.262564  0.586354 -0.785728   \n",
            "6280   1.998209  2.761479  0.398670 -0.383562  0.537922  1.342420 -0.471197   \n",
            "49110 -1.114512  2.958998 -0.671741  1.043038 -0.942493 -0.029295  0.673066   \n",
            "\n",
            "             V8  \n",
            "21096  0.403119  \n",
            "25588  0.842439  \n",
            "51800  0.019279  \n",
            "6280   0.246996  \n",
            "49110  0.409524  \n"
          ]
        }
      ]
    },
    {
      "cell_type": "code",
      "source": [
        "print(relevant_features)\n",
        "print(all(feature in df.columns for feature in relevant_features))\n"
      ],
      "metadata": {
        "id": "aK3UPEhjgLYz",
        "colab": {
          "base_uri": "https://localhost:8080/"
        },
        "outputId": "802a0d3a-b5e8-4560-8935-59257a25a8b4"
      },
      "execution_count": null,
      "outputs": [
        {
          "output_type": "stream",
          "name": "stdout",
          "text": [
            "['V17', 'V14', 'V3', 'V12', 'V10', 'V16', 'V7', 'V11', 'V4', 'V18', 'V1', 'V5', 'V2', 'V9', 'V8']\n",
            "True\n"
          ]
        }
      ]
    },
    {
      "cell_type": "code",
      "source": [
        "print(X_train.isnull().sum())\n",
        "print(X_train.dtypes)\n"
      ],
      "metadata": {
        "id": "GP2b2UBIgMgz",
        "colab": {
          "base_uri": "https://localhost:8080/"
        },
        "outputId": "d5e828ef-98a7-4506-b7a8-50b2997ec29b"
      },
      "execution_count": null,
      "outputs": [
        {
          "output_type": "stream",
          "name": "stdout",
          "text": [
            "V17    1\n",
            "V14    0\n",
            "V3     0\n",
            "V12    0\n",
            "V10    0\n",
            "V16    0\n",
            "V7     0\n",
            "V11    0\n",
            "V4     0\n",
            "V18    1\n",
            "V1     0\n",
            "V5     0\n",
            "V2     0\n",
            "V9     0\n",
            "V8     0\n",
            "dtype: int64\n",
            "V17    float64\n",
            "V14    float64\n",
            "V3     float64\n",
            "V12    float64\n",
            "V10    float64\n",
            "V16    float64\n",
            "V7     float64\n",
            "V11    float64\n",
            "V4     float64\n",
            "V18    float64\n",
            "V1     float64\n",
            "V5     float64\n",
            "V2     float64\n",
            "V9     float64\n",
            "V8     float64\n",
            "dtype: object\n"
          ]
        }
      ]
    },
    {
      "cell_type": "code",
      "source": [
        "relevant_features = list(corr_Class[corr_Class > 0.01].index)\n"
      ],
      "metadata": {
        "id": "-f4ItSkhgZAg"
      },
      "execution_count": null,
      "outputs": []
    },
    {
      "cell_type": "code",
      "source": [
        "relevant_features = df.columns.drop(\"Class\")\n"
      ],
      "metadata": {
        "id": "DsZrAgXnghe4"
      },
      "execution_count": null,
      "outputs": []
    },
    {
      "cell_type": "code",
      "source": [
        "X = df[relevant_features]\n",
        "y = df[\"Class\"]\n",
        "\n",
        "X_train, X_test, y_train, y_test = train_test_split(X, y, test_size=0.25, random_state=42)\n",
        "\n",
        "print(\"X_train shape:\", X_train.shape)\n",
        "X_train_scaled = sc.fit_transform(X_train)\n"
      ],
      "metadata": {
        "id": "UpKBvMeogdWj",
        "colab": {
          "base_uri": "https://localhost:8080/"
        },
        "outputId": "5a0e92c1-2c0f-4747-c16e-a2f522813b8f"
      },
      "execution_count": null,
      "outputs": [
        {
          "output_type": "stream",
          "name": "stdout",
          "text": [
            "X_train shape: (56753, 30)\n"
          ]
        }
      ]
    },
    {
      "cell_type": "code",
      "source": [
        "X_train_scaled = sc.fit_transform(X_train)\n",
        "print('Shape of X_train_scaled: ' , X_train_scaled.shape)"
      ],
      "metadata": {
        "id": "nTeNOW-Jfzpj",
        "colab": {
          "base_uri": "https://localhost:8080/"
        },
        "outputId": "0431a874-a294-481e-f0c6-d9bf08511d5e"
      },
      "execution_count": null,
      "outputs": [
        {
          "output_type": "stream",
          "name": "stdout",
          "text": [
            "Shape of X_train_scaled:  (56753, 30)\n"
          ]
        }
      ]
    },
    {
      "cell_type": "code",
      "source": [
        "print(X_train_scaled)\n",
        "print(y_train)"
      ],
      "metadata": {
        "id": "CtkXXZwXQQmN",
        "colab": {
          "base_uri": "https://localhost:8080/"
        },
        "outputId": "c42b2e07-1e2a-4be3-e482-7552421789b7"
      },
      "execution_count": null,
      "outputs": [
        {
          "output_type": "stream",
          "name": "stdout",
          "text": [
            "[[-0.31814062 -0.22571354 -0.09652343 ... -0.19179313 -0.5074871\n",
            "  -0.06847904]\n",
            " [-0.1689357  -0.50637612 -0.86580904 ...  0.05044012  0.48512019\n",
            "   0.07021399]\n",
            " [ 0.60138434  0.72497534  0.37173358 ...  0.06872456  0.10704708\n",
            "  -0.34177845]\n",
            " ...\n",
            " [ 0.70563261 -0.26012662 -0.00384968 ...  0.13666483  0.17178599\n",
            "  -0.24442209]\n",
            " [-2.39146311 -0.30859572  0.38373631 ...  0.40923194  0.87628961\n",
            "  -0.31693305]\n",
            " [-0.60255198  0.66679188  0.21600205 ... -0.17591183  0.04201976\n",
            "   0.05864117]]\n",
            "21096    0.0\n",
            "25588    0.0\n",
            "51800    0.0\n",
            "6280     0.0\n",
            "49110    0.0\n",
            "        ... \n",
            "37194    0.0\n",
            "6265     0.0\n",
            "54886    0.0\n",
            "860      0.0\n",
            "15795    0.0\n",
            "Name: Class, Length: 56753, dtype: float64\n"
          ]
        }
      ]
    },
    {
      "cell_type": "code",
      "source": [
        "print(\"Number of NaN values in y_train:\", y_train.isnull().sum())"
      ],
      "metadata": {
        "colab": {
          "base_uri": "https://localhost:8080/"
        },
        "id": "jdV3FTWhZrIw",
        "outputId": "3cc49f63-4275-412d-92dc-898ecddb3eee"
      },
      "execution_count": null,
      "outputs": [
        {
          "output_type": "stream",
          "name": "stdout",
          "text": [
            "Number of NaN values in y_train: 1\n"
          ]
        }
      ]
    },
    {
      "cell_type": "code",
      "source": [
        "print(\"Number of NaN values in 'Class' column before handling:\", df['Class'].isnull().sum())\n",
        "\n",
        "# Remove rows where 'Class' has NaN values\n",
        "df_cleaned = df.dropna(subset=['Class'])\n",
        "\n",
        "# Verify that NaNs in 'Class' are removed\n",
        "print(\"Number of NaN values in 'Class' column after handling:\", df_cleaned['Class'].isnull().sum())\n",
        "\n",
        "# Separate features (X) and target (y) from the cleaned DataFrame\n",
        "X = df_cleaned.drop('Class', axis=1)\n",
        "y = df_cleaned['Class']\n",
        "\n",
        "# Split the data into training and testing sets\n",
        "X_train, X_test, y_train, y_test = train_test_split(X, y, test_size=0.25, random_state=42)\n",
        "\n",
        "# Scale the training data\n",
        "sc = StandardScaler()\n",
        "X_train_scaled = sc.fit_transform(X_train)\n",
        "print('Shape of X_train_scaled:', X_train_scaled.shape)\n",
        "print('Shape of y_train:', y_train.shape)"
      ],
      "metadata": {
        "colab": {
          "base_uri": "https://localhost:8080/"
        },
        "id": "CsdmPlKeZ13F",
        "outputId": "5de00afb-cd52-460a-a66f-7ea835f7cf03"
      },
      "execution_count": null,
      "outputs": [
        {
          "output_type": "stream",
          "name": "stdout",
          "text": [
            "Number of NaN values in 'Class' column before handling: 1\n",
            "Number of NaN values in 'Class' column after handling: 0\n",
            "Shape of X_train_scaled: (56752, 30)\n",
            "Shape of y_train: (56752,)\n"
          ]
        }
      ]
    },
    {
      "cell_type": "code",
      "source": [
        "rf = RandomForestClassifier(max_depth=5, random_state=42)\n",
        "rf.fit(X_train_scaled,y_train)\n",
        "\n",
        "# We shouldn't forget to use the standard scaler to transform the features of the test set\n",
        "X_test_scaled = sc.transform(X_test)\n",
        "y_pred_rf = rf.predict(X_test_scaled)"
      ],
      "metadata": {
        "id": "MjUih7zygvj2"
      },
      "execution_count": null,
      "outputs": []
    },
    {
      "cell_type": "code",
      "source": [
        "sns.countplot(x = 'Class', data = df)\n",
        "# df[\"Class\"].value_counts().plot(kind = \"bar\")\n",
        "plt.title(\"Class Distribution\")\n",
        "plt.xlabel(\"Class\")\n",
        "plt.ylabel(\"No. of transactions\")\n",
        "plt.show()"
      ],
      "metadata": {
        "id": "6qO3c1yjN4aH",
        "colab": {
          "base_uri": "https://localhost:8080/",
          "height": 472
        },
        "outputId": "05828dc3-5103-4874-a955-5935f213d1c9"
      },
      "execution_count": null,
      "outputs": [
        {
          "output_type": "display_data",
          "data": {
            "text/plain": [
              "<Figure size 640x480 with 1 Axes>"
            ],
            "image/png": "[encoded data removed]"
          },
          "metadata": {}
        }
      ]
    },
    {
      "cell_type": "code",
      "source": [
        "plt.figure(figsize = (14, 14))\n",
        "plt.title(\"Feature Correlation Map\")\n",
        "corr = df.corr()\n",
        "sns.heatmap(corr, xticklabels = corr.columns, yticklabels = corr.columns, linewidths = .1, cmap = \"PuBu\")\n",
        "plt.show()"
      ],
      "metadata": {
        "id": "ROwGrxIdN6q7",
        "colab": {
          "base_uri": "https://localhost:8080/",
          "height": 1000
        },
        "outputId": "f8a165d4-9118-45c1-f325-dc3ee6a12966"
      },
      "execution_count": null,
      "outputs": [
        {
          "output_type": "display_data",
          "data": {
            "text/plain": [
              "<Figure size 1400x1400 with 2 Axes>"
            ],
            "image/png": "[encoded data removed]"
          },
          "metadata": {}
        }
      ]
    },
    {
      "cell_type": "code",
      "source": [
        "# define predictors and target\n",
        "target = \"Class\"\n",
        "# all columns except class\n",
        "predictors = df.columns.tolist()[:-1]"
      ],
      "metadata": {
        "id": "itUhW8VnN9oO"
      },
      "execution_count": null,
      "outputs": []
    },
    {
      "cell_type": "code",
      "source": [
        "# split the data\n",
        "train_df, test_df = train_test_split(df, test_size = 0.2, random_state = 42, shuffle = True)\n",
        "train_df, valid_df = train_test_split(train_df, test_size = 0.2, random_state = 42, shuffle = True)"
      ],
      "metadata": {
        "id": "aGEm86CBN_9B"
      },
      "execution_count": null,
      "outputs": []
    },
    {
      "cell_type": "code",
      "source": [
        "x_train, x_valid, x_test = train_df[predictors], valid_df[predictors], test_df[predictors]\n",
        "y_train, y_valid, y_test = train_df[target].values, valid_df[target].values, test_df[target].values"
      ],
      "metadata": {
        "id": "QrrdN5loOCCg"
      },
      "execution_count": null,
      "outputs": []
    },
    {
      "cell_type": "code",
      "source": [
        "clf = RandomForestClassifier(n_jobs = 4,\n",
        "                            random_state = 42,\n",
        "                            criterion = \"gini\",\n",
        "                            n_estimators = 100,\n",
        "                            verbose = False)"
      ],
      "metadata": {
        "id": "tH17eYeAOEEs"
      },
      "execution_count": null,
      "outputs": []
    },
    {
      "cell_type": "code",
      "source": [
        "print(\"Number of NaN values in 'Class' column before handling:\", df['Class'].isnull().sum())\n",
        "\n",
        "# Remove rows where 'Class' has NaN values\n",
        "df_cleaned = df.dropna(subset=['Class'])\n",
        "\n",
        "# Verify that NaNs in 'Class' are removed\n",
        "print(\"Number of NaN values in 'Class' column after handling:\", df_cleaned['Class'].isnull().sum())\n",
        "\n",
        "# Separate features (X) and target (y) from the cleaned DataFrame\n",
        "X = df_cleaned.drop('Class', axis=1)\n",
        "y = df_cleaned['Class']\n",
        "\n",
        "# Split the data into training and testing sets\n",
        "X_train, X_test, y_train, y_test = train_test_split(X, y, test_size=0.25, random_state=42)\n",
        "\n",
        "# Scale the training data\n",
        "sc = StandardScaler()\n",
        "X_train_scaled = sc.fit_transform(X_train)\n",
        "print('Shape of X_train_scaled:', X_train_scaled.shape)\n",
        "print('Shape of y_train:', y_train.shape)"
      ],
      "metadata": {
        "colab": {
          "base_uri": "https://localhost:8080/"
        },
        "id": "vCCEgK8FaBb2",
        "outputId": "2b9f52ef-8507-491f-d626-63c7a946442c"
      },
      "execution_count": null,
      "outputs": [
        {
          "output_type": "stream",
          "name": "stdout",
          "text": [
            "Number of NaN values in 'Class' column before handling: 1\n",
            "Number of NaN values in 'Class' column after handling: 0\n",
            "Shape of X_train_scaled: (56752, 30)\n",
            "Shape of y_train: (56752,)\n"
          ]
        }
      ]
    },
    {
      "cell_type": "code",
      "source": [
        "print(train_df[target].isnull().sum())\n",
        "print(np.isnan(train_df[target].values).sum())"
      ],
      "metadata": {
        "colab": {
          "base_uri": "https://localhost:8080/"
        },
        "id": "XhokKlrpaJhF",
        "outputId": "dccb17e0-234a-44cc-9599-59807f52d8f7"
      },
      "execution_count": null,
      "outputs": [
        {
          "output_type": "stream",
          "name": "stdout",
          "text": [
            "1\n",
            "1\n"
          ]
        }
      ]
    },
    {
      "cell_type": "code",
      "source": [
        "print(f\"Shape of train_df before dropping NaNs: {train_df.shape}\")\n",
        "train_df.dropna(subset=[target], inplace=True)\n",
        "print(f\"Shape of train_df after dropping NaNs: {train_df.shape}\")\n",
        "print(f\"Number of NaNs in target after dropping: {train_df[target].isnull().sum()}\")\n",
        "\n",
        "# Now proceed with fitting the model\n",
        "clf.fit(train_df[predictors], train_df[target].values)"
      ],
      "metadata": {
        "colab": {
          "base_uri": "https://localhost:8080/",
          "height": 135
        },
        "id": "Q_utcyqSaRYs",
        "outputId": "9299ff6e-eddb-402b-90e6-831cefb140b0"
      },
      "execution_count": null,
      "outputs": [
        {
          "output_type": "stream",
          "name": "stdout",
          "text": [
            "Shape of train_df before dropping NaNs: (48428, 31)\n",
            "Shape of train_df after dropping NaNs: (48427, 31)\n",
            "Number of NaNs in target after dropping: 0\n"
          ]
        },
        {
          "output_type": "execute_result",
          "data": {
            "text/plain": [
              "RandomForestClassifier(n_jobs=4, random_state=42, verbose=False)"
            ],
            "text/html": [
              "<style>#sk-container-id-1 {\n",
              "  /* Definition of color scheme common for light and dark mode */\n",
              "  --sklearn-color-text: #000;\n",
              "  --sklearn-color-text-muted: #666;\n",
              "  --sklearn-color-line: gray;\n",
              "  /* Definition of color scheme for unfitted estimators */\n",
              "  --sklearn-color-unfitted-level-0: #fff5e6;\n",
              "  --sklearn-color-unfitted-level-1: #f6e4d2;\n",
              "  --sklearn-color-unfitted-level-2: #ffe0b3;\n",
              "  --sklearn-color-unfitted-level-3: chocolate;\n",
              "  /* Definition of color scheme for fitted estimators */\n",
              "  --sklearn-color-fitted-level-0: #f0f8ff;\n",
              "  --sklearn-color-fitted-level-1: #d4ebff;\n",
              "  --sklearn-color-fitted-level-2: #b3dbfd;\n",
              "  --sklearn-color-fitted-level-3: cornflowerblue;\n",
              "\n",
              "  /* Specific color for light theme */\n",
              "  --sklearn-color-text-on-default-background: var(--sg-text-color, var(--theme-code-foreground, var(--jp-content-font-color1, black)));\n",
              "  --sklearn-color-background: var(--sg-background-color, var(--theme-background, var(--jp-layout-color0, white)));\n",
              "  --sklearn-color-border-box: var(--sg-text-color, var(--theme-code-foreground, var(--jp-content-font-color1, black)));\n",
              "  --sklearn-color-icon: #696969;\n",
              "\n",
              "  @media (prefers-color-scheme: dark) {\n",
              "    /* Redefinition of color scheme for dark theme */\n",
              "    --sklearn-color-text-on-default-background: var(--sg-text-color, var(--theme-code-foreground, var(--jp-content-font-color1, white)));\n",
              "    --sklearn-color-background: var(--sg-background-color, var(--theme-background, var(--jp-layout-color0, #111)));\n",
              "    --sklearn-color-border-box: var(--sg-text-color, var(--theme-code-foreground, var(--jp-content-font-color1, white)));\n",
              "    --sklearn-color-icon: #878787;\n",
              "  }\n",
              "}\n",
              "\n",
              "#sk-container-id-1 {\n",
              "  color: var(--sklearn-color-text);\n",
              "}\n",
              "\n",
              "#sk-container-id-1 pre {\n",
              "  padding: 0;\n",
              "}\n",
              "\n",
              "#sk-container-id-1 input.sk-hidden--visually {\n",
              "  border: 0;\n",
              "  clip: rect(1px 1px 1px 1px);\n",
              "  clip: rect(1px, 1px, 1px, 1px);\n",
              "  height: 1px;\n",
              "  margin: -1px;\n",
              "  overflow: hidden;\n",
              "  padding: 0;\n",
              "  position: absolute;\n",
              "  width: 1px;\n",
              "}\n",
              "\n",
              "#sk-container-id-1 div.sk-dashed-wrapped {\n",
              "  border: 1px dashed var(--sklearn-color-line);\n",
              "  margin: 0 0.4em 0.5em 0.4em;\n",
              "  box-sizing: border-box;\n",
              "  padding-bottom: 0.4em;\n",
              "  background-color: var(--sklearn-color-background);\n",
              "}\n",
              "\n",
              "#sk-container-id-1 div.sk-container {\n",
              "  /* jupyter's `normalize.less` sets `[hidden] { display: none; }`\n",
              "     but bootstrap.min.css set `[hidden] { display: none !important; }`\n",
              "     so we also need the `!important` here to be able to override the\n",
              "     default hidden behavior on the sphinx rendered scikit-learn.org.\n",
              "     See: https://github.com/scikit-learn/scikit-learn/issues/21755 */\n",
              "  display: inline-block !important;\n",
              "  position: relative;\n",
              "}\n",
              "\n",
              "#sk-container-id-1 div.sk-text-repr-fallback {\n",
              "  display: none;\n",
              "}\n",
              "\n",
              "div.sk-parallel-item,\n",
              "div.sk-serial,\n",
              "div.sk-item {\n",
              "  /* draw centered vertical line to link estimators */\n",
              "  background-image: linear-gradient(var(--sklearn-color-text-on-default-background), var(--sklearn-color-text-on-default-background));\n",
              "  background-size: 2px 100%;\n",
              "  background-repeat: no-repeat;\n",
              "  background-position: center center;\n",
              "}\n",
              "\n",
              "/* Parallel-specific style estimator block */\n",
              "\n",
              "#sk-container-id-1 div.sk-parallel-item::after {\n",
              "  content: \"\";\n",
              "  width: 100%;\n",
              "  border-bottom: 2px solid var(--sklearn-color-text-on-default-background);\n",
              "  flex-grow: 1;\n",
              "}\n",
              "\n",
              "#sk-container-id-1 div.sk-parallel {\n",
              "  display: flex;\n",
              "  align-items: stretch;\n",
              "  justify-content: center;\n",
              "  background-color: var(--sklearn-color-background);\n",
              "  position: relative;\n",
              "}\n",
              "\n",
              "#sk-container-id-1 div.sk-parallel-item {\n",
              "  display: flex;\n",
              "  flex-direction: column;\n",
              "}\n",
              "\n",
              "#sk-container-id-1 div.sk-parallel-item:first-child::after {\n",
              "  align-self: flex-end;\n",
              "  width: 50%;\n",
              "}\n",
              "\n",
              "#sk-container-id-1 div.sk-parallel-item:last-child::after {\n",
              "  align-self: flex-start;\n",
              "  width: 50%;\n",
              "}\n",
              "\n",
              "#sk-container-id-1 div.sk-parallel-item:only-child::after {\n",
              "  width: 0;\n",
              "}\n",
              "\n",
              "/* Serial-specific style estimator block */\n",
              "\n",
              "#sk-container-id-1 div.sk-serial {\n",
              "  display: flex;\n",
              "  flex-direction: column;\n",
              "  align-items: center;\n",
              "  background-color: var(--sklearn-color-background);\n",
              "  padding-right: 1em;\n",
              "  padding-left: 1em;\n",
              "}\n",
              "\n",
              "\n",
              "/* Toggleable style: style used for estimator/Pipeline/ColumnTransformer box that is\n",
              "clickable and can be expanded/collapsed.\n",
              "- Pipeline and ColumnTransformer use this feature and define the default style\n",
              "- Estimators will overwrite some part of the style using the `sk-estimator` class\n",
              "*/\n",
              "\n",
              "/* Pipeline and ColumnTransformer style (default) */\n",
              "\n",
              "#sk-container-id-1 div.sk-toggleable {\n",
              "  /* Default theme specific background. It is overwritten whether we have a\n",
              "  specific estimator or a Pipeline/ColumnTransformer */\n",
              "  background-color: var(--sklearn-color-background);\n",
              "}\n",
              "\n",
              "/* Toggleable label */\n",
              "#sk-container-id-1 label.sk-toggleable__label {\n",
              "  cursor: pointer;\n",
              "  display: flex;\n",
              "  width: 100%;\n",
              "  margin-bottom: 0;\n",
              "  padding: 0.5em;\n",
              "  box-sizing: border-box;\n",
              "  text-align: center;\n",
              "  align-items: start;\n",
              "  justify-content: space-between;\n",
              "  gap: 0.5em;\n",
              "}\n",
              "\n",
              "#sk-container-id-1 label.sk-toggleable__label .caption {\n",
              "  font-size: 0.6rem;\n",
              "  font-weight: lighter;\n",
              "  color: var(--sklearn-color-text-muted);\n",
              "}\n",
              "\n",
              "#sk-container-id-1 label.sk-toggleable__label-arrow:before {\n",
              "  /* Arrow on the left of the label */\n",
              "  content: \"▸\";\n",
              "  float: left;\n",
              "  margin-right: 0.25em;\n",
              "  color: var(--sklearn-color-icon);\n",
              "}\n",
              "\n",
              "#sk-container-id-1 label.sk-toggleable__label-arrow:hover:before {\n",
              "  color: var(--sklearn-color-text);\n",
              "}\n",
              "\n",
              "/* Toggleable content - dropdown */\n",
              "\n",
              "#sk-container-id-1 div.sk-toggleable__content {\n",
              "  max-height: 0;\n",
              "  max-width: 0;\n",
              "  overflow: hidden;\n",
              "  text-align: left;\n",
              "  /* unfitted */\n",
              "  background-color: var(--sklearn-color-unfitted-level-0);\n",
              "}\n",
              "\n",
              "#sk-container-id-1 div.sk-toggleable__content.fitted {\n",
              "  /* fitted */\n",
              "  background-color: var(--sklearn-color-fitted-level-0);\n",
              "}\n",
              "\n",
              "#sk-container-id-1 div.sk-toggleable__content pre {\n",
              "  margin: 0.2em;\n",
              "  border-radius: 0.25em;\n",
              "  color: var(--sklearn-color-text);\n",
              "  /* unfitted */\n",
              "  background-color: var(--sklearn-color-unfitted-level-0);\n",
              "}\n",
              "\n",
              "#sk-container-id-1 div.sk-toggleable__content.fitted pre {\n",
              "  /* unfitted */\n",
              "  background-color: var(--sklearn-color-fitted-level-0);\n",
              "}\n",
              "\n",
              "#sk-container-id-1 input.sk-toggleable__control:checked~div.sk-toggleable__content {\n",
              "  /* Expand drop-down */\n",
              "  max-height: 200px;\n",
              "  max-width: 100%;\n",
              "  overflow: auto;\n",
              "}\n",
              "\n",
              "#sk-container-id-1 input.sk-toggleable__control:checked~label.sk-toggleable__label-arrow:before {\n",
              "  content: \"▾\";\n",
              "}\n",
              "\n",
              "/* Pipeline/ColumnTransformer-specific style */\n",
              "\n",
              "#sk-container-id-1 div.sk-label input.sk-toggleable__control:checked~label.sk-toggleable__label {\n",
              "  color: var(--sklearn-color-text);\n",
              "  background-color: var(--sklearn-color-unfitted-level-2);\n",
              "}\n",
              "\n",
              "#sk-container-id-1 div.sk-label.fitted input.sk-toggleable__control:checked~label.sk-toggleable__label {\n",
              "  background-color: var(--sklearn-color-fitted-level-2);\n",
              "}\n",
              "\n",
              "/* Estimator-specific style */\n",
              "\n",
              "/* Colorize estimator box */\n",
              "#sk-container-id-1 div.sk-estimator input.sk-toggleable__control:checked~label.sk-toggleable__label {\n",
              "  /* unfitted */\n",
              "  background-color: var(--sklearn-color-unfitted-level-2);\n",
              "}\n",
              "\n",
              "#sk-container-id-1 div.sk-estimator.fitted input.sk-toggleable__control:checked~label.sk-toggleable__label {\n",
              "  /* fitted */\n",
              "  background-color: var(--sklearn-color-fitted-level-2);\n",
              "}\n",
              "\n",
              "#sk-container-id-1 div.sk-label label.sk-toggleable__label,\n",
              "#sk-container-id-1 div.sk-label label {\n",
              "  /* The background is the default theme color */\n",
              "  color: var(--sklearn-color-text-on-default-background);\n",
              "}\n",
              "\n",
              "/* On hover, darken the color of the background */\n",
              "#sk-container-id-1 div.sk-label:hover label.sk-toggleable__label {\n",
              "  color: var(--sklearn-color-text);\n",
              "  background-color: var(--sklearn-color-unfitted-level-2);\n",
              "}\n",
              "\n",
              "/* Label box, darken color on hover, fitted */\n",
              "#sk-container-id-1 div.sk-label.fitted:hover label.sk-toggleable__label.fitted {\n",
              "  color: var(--sklearn-color-text);\n",
              "  background-color: var(--sklearn-color-fitted-level-2);\n",
              "}\n",
              "\n",
              "/* Estimator label */\n",
              "\n",
              "#sk-container-id-1 div.sk-label label {\n",
              "  font-family: monospace;\n",
              "  font-weight: bold;\n",
              "  display: inline-block;\n",
              "  line-height: 1.2em;\n",
              "}\n",
              "\n",
              "#sk-container-id-1 div.sk-label-container {\n",
              "  text-align: center;\n",
              "}\n",
              "\n",
              "/* Estimator-specific */\n",
              "#sk-container-id-1 div.sk-estimator {\n",
              "  font-family: monospace;\n",
              "  border: 1px dotted var(--sklearn-color-border-box);\n",
              "  border-radius: 0.25em;\n",
              "  box-sizing: border-box;\n",
              "  margin-bottom: 0.5em;\n",
              "  /* unfitted */\n",
              "  background-color: var(--sklearn-color-unfitted-level-0);\n",
              "}\n",
              "\n",
              "#sk-container-id-1 div.sk-estimator.fitted {\n",
              "  /* fitted */\n",
              "  background-color: var(--sklearn-color-fitted-level-0);\n",
              "}\n",
              "\n",
              "/* on hover */\n",
              "#sk-container-id-1 div.sk-estimator:hover {\n",
              "  /* unfitted */\n",
              "  background-color: var(--sklearn-color-unfitted-level-2);\n",
              "}\n",
              "\n",
              "#sk-container-id-1 div.sk-estimator.fitted:hover {\n",
              "  /* fitted */\n",
              "  background-color: var(--sklearn-color-fitted-level-2);\n",
              "}\n",
              "\n",
              "/* Specification for estimator info (e.g. \"i\" and \"?\") */\n",
              "\n",
              "/* Common style for \"i\" and \"?\" */\n",
              "\n",
              ".sk-estimator-doc-link,\n",
              "a:link.sk-estimator-doc-link,\n",
              "a:visited.sk-estimator-doc-link {\n",
              "  float: right;\n",
              "  font-size: smaller;\n",
              "  line-height: 1em;\n",
              "  font-family: monospace;\n",
              "  background-color: var(--sklearn-color-background);\n",
              "  border-radius: 1em;\n",
              "  height: 1em;\n",
              "  width: 1em;\n",
              "  text-decoration: none !important;\n",
              "  margin-left: 0.5em;\n",
              "  text-align: center;\n",
              "  /* unfitted */\n",
              "  border: var(--sklearn-color-unfitted-level-1) 1pt solid;\n",
              "  color: var(--sklearn-color-unfitted-level-1);\n",
              "}\n",
              "\n",
              ".sk-estimator-doc-link.fitted,\n",
              "a:link.sk-estimator-doc-link.fitted,\n",
              "a:visited.sk-estimator-doc-link.fitted {\n",
              "  /* fitted */\n",
              "  border: var(--sklearn-color-fitted-level-1) 1pt solid;\n",
              "  color: var(--sklearn-color-fitted-level-1);\n",
              "}\n",
              "\n",
              "/* On hover */\n",
              "div.sk-estimator:hover .sk-estimator-doc-link:hover,\n",
              ".sk-estimator-doc-link:hover,\n",
              "div.sk-label-container:hover .sk-estimator-doc-link:hover,\n",
              ".sk-estimator-doc-link:hover {\n",
              "  /* unfitted */\n",
              "  background-color: var(--sklearn-color-unfitted-level-3);\n",
              "  color: var(--sklearn-color-background);\n",
              "  text-decoration: none;\n",
              "}\n",
              "\n",
              "div.sk-estimator.fitted:hover .sk-estimator-doc-link.fitted:hover,\n",
              ".sk-estimator-doc-link.fitted:hover,\n",
              "div.sk-label-container:hover .sk-estimator-doc-link.fitted:hover,\n",
              ".sk-estimator-doc-link.fitted:hover {\n",
              "  /* fitted */\n",
              "  background-color: var(--sklearn-color-fitted-level-3);\n",
              "  color: var(--sklearn-color-background);\n",
              "  text-decoration: none;\n",
              "}\n",
              "\n",
              "/* Span, style for the box shown on hovering the info icon */\n",
              ".sk-estimator-doc-link span {\n",
              "  display: none;\n",
              "  z-index: 9999;\n",
              "  position: relative;\n",
              "  font-weight: normal;\n",
              "  right: .2ex;\n",
              "  padding: .5ex;\n",
              "  margin: .5ex;\n",
              "  width: min-content;\n",
              "  min-width: 20ex;\n",
              "  max-width: 50ex;\n",
              "  color: var(--sklearn-color-text);\n",
              "  box-shadow: 2pt 2pt 4pt #999;\n",
              "  /* unfitted */\n",
              "  background: var(--sklearn-color-unfitted-level-0);\n",
              "  border: .5pt solid var(--sklearn-color-unfitted-level-3);\n",
              "}\n",
              "\n",
              ".sk-estimator-doc-link.fitted span {\n",
              "  /* fitted */\n",
              "  background: var(--sklearn-color-fitted-level-0);\n",
              "  border: var(--sklearn-color-fitted-level-3);\n",
              "}\n",
              "\n",
              ".sk-estimator-doc-link:hover span {\n",
              "  display: block;\n",
              "}\n",
              "\n",
              "/* \"?\"-specific style due to the `<a>` HTML tag */\n",
              "\n",
              "#sk-container-id-1 a.estimator_doc_link {\n",
              "  float: right;\n",
              "  font-size: 1rem;\n",
              "  line-height: 1em;\n",
              "  font-family: monospace;\n",
              "  background-color: var(--sklearn-color-background);\n",
              "  border-radius: 1rem;\n",
              "  height: 1rem;\n",
              "  width: 1rem;\n",
              "  text-decoration: none;\n",
              "  /* unfitted */\n",
              "  color: var(--sklearn-color-unfitted-level-1);\n",
              "  border: var(--sklearn-color-unfitted-level-1) 1pt solid;\n",
              "}\n",
              "\n",
              "#sk-container-id-1 a.estimator_doc_link.fitted {\n",
              "  /* fitted */\n",
              "  border: var(--sklearn-color-fitted-level-1) 1pt solid;\n",
              "  color: var(--sklearn-color-fitted-level-1);\n",
              "}\n",
              "\n",
              "/* On hover */\n",
              "#sk-container-id-1 a.estimator_doc_link:hover {\n",
              "  /* unfitted */\n",
              "  background-color: var(--sklearn-color-unfitted-level-3);\n",
              "  color: var(--sklearn-color-background);\n",
              "  text-decoration: none;\n",
              "}\n",
              "\n",
              "#sk-container-id-1 a.estimator_doc_link.fitted:hover {\n",
              "  /* fitted */\n",
              "  background-color: var(--sklearn-color-fitted-level-3);\n",
              "}\n",
              "</style><div id=\"sk-container-id-1\" class=\"sk-top-container\"><div class=\"sk-text-repr-fallback\"><pre>RandomForestClassifier(n_jobs=4, random_state=42, verbose=False)</pre><b>In a Jupyter environment, please rerun this cell to show the HTML representation or trust the notebook. <br />On GitHub, the HTML representation is unable to render, please try loading this page with nbviewer.org.</b></div><div class=\"sk-container\" hidden><div class=\"sk-item\"><div class=\"sk-estimator fitted sk-toggleable\"><input class=\"sk-toggleable__control sk-hidden--visually\" id=\"sk-estimator-id-1\" type=\"checkbox\" checked><label for=\"sk-estimator-id-1\" class=\"sk-toggleable__label fitted sk-toggleable__label-arrow\"><div><div>RandomForestClassifier</div></div><div><a class=\"sk-estimator-doc-link fitted\" rel=\"noreferrer\" target=\"_blank\" href=\"https://scikit-learn.org/1.6/modules/generated/sklearn.ensemble.RandomForestClassifier.html\">?<span>Documentation for RandomForestClassifier</span></a><span class=\"sk-estimator-doc-link fitted\">i<span>Fitted</span></span></div></label><div class=\"sk-toggleable__content fitted\"><pre>RandomForestClassifier(n_jobs=4, random_state=42, verbose=False)</pre></div> </div></div></div></div>"
            ]
          },
          "metadata": {},
          "execution_count": 43
        }
      ]
    },
    {
      "cell_type": "code",
      "source": [
        "preds = clf.predict(valid_df[predictors])"
      ],
      "metadata": {
        "id": "WVl3gPu-OPDe"
      },
      "execution_count": null,
      "outputs": []
    },
    {
      "cell_type": "code",
      "source": [
        " clf.score(test_df[predictors], test_df[target].values)"
      ],
      "metadata": {
        "id": "x2bcqggcO_yR",
        "colab": {
          "base_uri": "https://localhost:8080/"
        },
        "outputId": "8da52194-b90e-416b-bccb-edc395026865"
      },
      "execution_count": null,
      "outputs": [
        {
          "output_type": "execute_result",
          "data": {
            "text/plain": [
              "0.9996696399074991"
            ]
          },
          "metadata": {},
          "execution_count": 45
        }
      ]
    },
    {
      "cell_type": "code",
      "source": [
        "# confusion matrix\n",
        "cm = pd.crosstab(valid_df[target].values, preds, rownames = ['Actual'], colnames = ['Predicted'])\n",
        "fig, ax1 = plt.subplots(ncols = 1, figsize = (5, 5))\n",
        "sns.heatmap(cm, xticklabels = [\"Not Fraud\", \"Fraud\"], yticklabels = [\"Not Fraud\", \"Fraud\"], annot = True, ax = ax1, linewidth = .2, linecolor = \"Lightblue\", cmap = \"PuBu\")\n",
        "plt.title(\"Confusion Matrix\")\n",
        "plt.show()"
      ],
      "metadata": {
        "id": "kbWVvN17PDG8",
        "colab": {
          "base_uri": "https://localhost:8080/",
          "height": 487
        },
        "outputId": "5d356616-39a0-4dda-e73d-2ae27c7f2094"
      },
      "execution_count": null,
      "outputs": [
        {
          "output_type": "display_data",
          "data": {
            "text/plain": [
              "<Figure size 500x500 with 2 Axes>"
            ],
            "image/png": "[encoded data removed]"
          },
          "metadata": {}
        }
      ]
    },
    {
      "cell_type": "code",
      "source": [
        "# area under curve\n",
        "from sklearn.metrics import roc_auc_score\n",
        "roc_auc_score(valid_df[target].values, preds)"
      ],
      "metadata": {
        "id": "ehBsMcSGPFnt",
        "colab": {
          "base_uri": "https://localhost:8080/"
        },
        "outputId": "10244363-7f45-464f-bd76-2057b11540cf"
      },
      "execution_count": null,
      "outputs": [
        {
          "output_type": "execute_result",
          "data": {
            "text/plain": [
              "np.float64(0.8999171362280413)"
            ]
          },
          "metadata": {},
          "execution_count": 47
        }
      ]
    },
    {
      "cell_type": "code",
      "source": [
        "from sklearn.ensemble import AdaBoostClassifier\n",
        "clf = AdaBoostClassifier(random_state = 42, algorithm = \"SAMME\", learning_rate = 0.8, n_estimators = 100)"
      ],
      "metadata": {
        "id": "JHZMNXujPHWC"
      },
      "execution_count": null,
      "outputs": []
    },
    {
      "cell_type": "code",
      "source": [
        "print(f\"Shape of train_df before dropping NaNs: {train_df.shape}\")\n",
        "train_df.dropna(subset=predictors, inplace=True)\n",
        "print(f\"Shape of train_df after dropping NaNs: {train_df.shape}\")\n",
        "\n",
        "# Now proceed with scaling and fitting"
      ],
      "metadata": {
        "colab": {
          "base_uri": "https://localhost:8080/"
        },
        "id": "7EPHKQMTaiKp",
        "outputId": "a42e8204-7098-4645-bc8d-ba3bf18f1565"
      },
      "execution_count": null,
      "outputs": [
        {
          "output_type": "stream",
          "name": "stdout",
          "text": [
            "Shape of train_df before dropping NaNs: (48427, 31)\n",
            "Shape of train_df after dropping NaNs: (48427, 31)\n"
          ]
        }
      ]
    },
    {
      "cell_type": "code",
      "source": [
        "# Identify columns with a high percentage of NaNs (e.g., > 50%)\n",
        "missing_percentage = train_df[predictors].isnull().sum() / len(train_df)\n",
        "cols_to_drop = missing_percentage[missing_percentage > 0.5].index.tolist()\n",
        "print(f\"Columns to drop due to high missing values: {cols_to_drop}\")\n",
        "predictors = [col for col in predictors if col not in cols_to_drop]\n",
        "train_df.drop(cols_to_drop, axis=1, inplace=True)\n",
        "test_df.drop(cols_to_drop, axis=1, inplace=True, errors='ignore') # Handle cases where test_df might not have these columns\n",
        "valid_df.drop(cols_to_drop, axis=1, inplace=True, errors='ignore')\n",
        "\n",
        "# Now proceed with scaling and fitting using the remaining predictors"
      ],
      "metadata": {
        "colab": {
          "base_uri": "https://localhost:8080/"
        },
        "id": "9FQsx3HZamZc",
        "outputId": "eb3e3227-57f9-46e3-966c-e94993a966c1"
      },
      "execution_count": null,
      "outputs": [
        {
          "output_type": "stream",
          "name": "stdout",
          "text": [
            "Columns to drop due to high missing values: []\n"
          ]
        }
      ]
    },
    {
      "cell_type": "code",
      "source": [
        "from sklearn.impute import SimpleImputer\n",
        "\n",
        "categorical_cols_with_nan = train_df[predictors].select_dtypes(include='object').columns[train_df[predictors].select_dtypes(include='object').isnull().any()].tolist()\n",
        "\n",
        "if categorical_cols_with_nan:\n",
        "    imputer_categorical = SimpleImputer(strategy='most_frequent')\n",
        "    train_df[categorical_cols_with_nan] = imputer_categorical.fit_transform(train_df[categorical_cols_with_nan])\n",
        "    test_df[categorical_cols_with_nan] = imputer_categorical.transform(test_df[categorical_cols_with_nan])\n",
        "    valid_df[categorical_cols_with_nan] = imputer_categorical.transform(valid_df[categorical_cols_with_nan])\n",
        "\n",
        "# Now proceed with scaling (if applicable) and fitting"
      ],
      "metadata": {
        "id": "zgArf4VIaqgM"
      },
      "execution_count": null,
      "outputs": []
    },
    {
      "cell_type": "code",
      "source": [
        "# area under curve\n",
        "roc_auc_score(y_valid, preds)"
      ],
      "metadata": {
        "id": "80M9okX1QkgD",
        "colab": {
          "base_uri": "https://localhost:8080/"
        },
        "outputId": "e7da676b-8748-40cc-8e11-ee2cb0572c23"
      },
      "execution_count": null,
      "outputs": [
        {
          "output_type": "execute_result",
          "data": {
            "text/plain": [
              "np.float64(0.8999171362280413)"
            ]
          },
          "metadata": {},
          "execution_count": 53
        }
      ]
    },
    {
      "cell_type": "code",
      "source": [
        "from sklearn.model_selection import train_test_split\n",
        "\n",
        "# Assuming you already have X and y defined\n",
        "X_train, X_valid, y_train, y_valid = train_test_split(\n",
        "    X, y, test_size=0.2, random_state=42\n",
        ")\n"
      ],
      "metadata": {
        "id": "OlWLKknlLogp"
      },
      "execution_count": null,
      "outputs": []
    },
    {
      "cell_type": "code",
      "source": [
        "from sklearn.model_selection import train_test_split\n",
        "\n",
        "# Drop rows with NaNs before split\n",
        "X_clean = X.dropna()\n",
        "y_clean = y[X_clean.index]\n",
        "\n",
        "X_train, X_test, y_train, y_test = train_test_split(X_clean, y_clean, test_size=0.2, stratify=y_clean)\n"
      ],
      "metadata": {
        "id": "Cv8lhjc86flp"
      },
      "execution_count": null,
      "outputs": []
    },
    {
      "cell_type": "code",
      "source": [
        "import pandas as pd\n",
        "import matplotlib.pyplot as plt\n",
        "from sklearn.ensemble import RandomForestClassifier\n",
        "from sklearn.preprocessing import StandardScaler\n",
        "from imblearn.over_sampling import SMOTE\n",
        "from sklearn.model_selection import train_test_split\n",
        "\n",
        "df = pd.read_csv(\"creditcard.csv\")\n",
        "\n",
        "X = df.drop('Class', axis=1)\n",
        "y = df['Class']\n",
        "X_train, X_test, y_train, y_test = train_test_split(X, y, test_size=0.25, random_state=42)\n",
        "\n",
        "smote = SMOTE(random_state=42)\n",
        "X_train_resampled, y_train_resampled = smote.fit_resample(X_train, y_train)\n",
        "\n",
        "scaler = StandardScaler()\n",
        "X_train_scaled_resampled = scaler.fit_transform(X_train_resampled)\n",
        "X_test_scaled = scaler.transform(X_test)\n",
        "\n",
        "# Train a Random Forest model to get feature importances\n",
        "rf_feature_selection = RandomForestClassifier(n_estimators=100, random_state=42)\n",
        "rf_feature_selection.fit(X_train_scaled_resampled, y_train_resampled)\n",
        "\n",
        "# Get feature importances\n",
        "importances = rf_feature_selection.feature_importances_\n",
        "feature_names = X.columns\n",
        "feature_importance_df = pd.DataFrame({'Feature': feature_names, 'Importance': importances})\n",
        "feature_importance_df = feature_importance_df.sort_values(by='Importance', ascending=False)\n",
        "\n",
        "print(\"Feature Importances:\")\n",
        "print(feature_importance_df)\n",
        "\n",
        "# Plot feature importances\n",
        "plt.figure(figsize=(10, 6))\n",
        "plt.bar(feature_importance_df['Feature'], feature_importance_df['Importance'])\n",
        "plt.xticks(rotation=90)\n",
        "plt.xlabel('Feature')\n",
        "plt.ylabel('Importance')\n",
        "plt.title('Random Forest Feature Importances')\n",
        "plt.tight_layout()\n",
        "plt.show()\n",
        "\n",
        "# Select a subset of the most important features (e.g., top N)\n",
        "top_n_features = feature_importance_df['Feature'][:10].tolist() # Select top 10\n",
        "X_train_selected = X_train_resampled[top_n_features]\n",
        "X_test_selected = X_test[top_n_features]\n",
        "\n",
        "scaler_selected = StandardScaler()\n",
        "X_train_scaled_selected = scaler_selected.fit_transform(X_train_selected)\n",
        "X_test_scaled_selected = scaler_selected.transform(X_test_selected)\n",
        "\n",
        "# Train and evaluate a model using the selected features\n",
        "rf_selected = RandomForestClassifier(max_depth=5, random_state=0)\n",
        "rf_selected.fit(X_train_scaled_selected, y_train_resampled)\n",
        "y_pred_rf_selected = rf_selected.predict(X_test_scaled_selected)\n",
        "print(\"\\nClassification Report with Selected Features (Random Forest):\")\n",
        "from sklearn.metrics import classification_report\n",
        "print(classification_report(y_test, y_pred_rf_selected))"
      ],
      "metadata": {
        "id": "XW5xY9826wDX",
        "colab": {
          "base_uri": "https://localhost:8080/",
          "height": 1000
        },
        "outputId": "191706cf-0a34-4957-89af-3f1bb2465fa4"
      },
      "execution_count": null,
      "outputs": [
        {
          "output_type": "stream",
          "name": "stdout",
          "text": [
            "Feature Importances:\n",
            "   Feature  Importance\n",
            "14     V14    0.210816\n",
            "12     V12    0.123964\n",
            "10     V10    0.123823\n",
            "4       V4    0.094570\n",
            "17     V17    0.089224\n",
            "3       V3    0.069417\n",
            "11     V11    0.059611\n",
            "16     V16    0.040550\n",
            "2       V2    0.039589\n",
            "9       V9    0.025939\n",
            "21     V21    0.015713\n",
            "7       V7    0.013296\n",
            "1       V1    0.009754\n",
            "18     V18    0.008393\n",
            "6       V6    0.008356\n",
            "0     Time    0.007652\n",
            "13     V13    0.005955\n",
            "27     V27    0.005525\n",
            "8       V8    0.005036\n",
            "28     V28    0.004645\n",
            "20     V20    0.004560\n",
            "15     V15    0.004103\n",
            "5       V5    0.004040\n",
            "19     V19    0.003998\n",
            "26     V26    0.003895\n",
            "25     V25    0.003723\n",
            "29  Amount    0.003627\n",
            "22     V22    0.003574\n",
            "24     V24    0.003497\n",
            "23     V23    0.003154\n"
          ]
        },
        {
          "output_type": "display_data",
          "data": {
            "text/plain": [
              "<Figure size 1000x600 with 1 Axes>"
            ],
            "image/png": "[encoded data removed]"
          },
          "metadata": {}
        },
        {
          "output_type": "stream",
          "name": "stdout",
          "text": [
            "\n",
            "Classification Report with Selected Features (Random Forest):\n"
          ]
        },
        {
          "output_type": "stream",
          "name": "stderr",
          "text": [
            "/usr/local/lib/python3.11/dist-packages/sklearn/utils/_array_api.py:399: RuntimeWarning: invalid value encountered in cast\n",
            "  return x.astype(dtype, copy=copy, casting=casting)\n"
          ]
        },
        {
          "output_type": "error",
          "ename": "ValueError",
          "evalue": "Input y_true contains NaN.",
          "traceback": [
            "\u001b[0;31m---------------------------------------------------------------------------\u001b[0m",
            "\u001b[0;31mValueError\u001b[0m                                Traceback (most recent call last)",
            "\u001b[0;32m<ipython-input-56-656c6a64154a>\u001b[0m in \u001b[0;36m<cell line: 0>\u001b[0;34m()\u001b[0m\n\u001b[1;32m     57\u001b[0m \u001b[0mprint\u001b[0m\u001b[0;34m(\u001b[0m\u001b[0;34m\"\\nClassification Report with Selected Features (Random Forest):\"\u001b[0m\u001b[0;34m)\u001b[0m\u001b[0;34m\u001b[0m\u001b[0;34m\u001b[0m\u001b[0m\n\u001b[1;32m     58\u001b[0m \u001b[0;32mfrom\u001b[0m \u001b[0msklearn\u001b[0m\u001b[0;34m.\u001b[0m\u001b[0mmetrics\u001b[0m \u001b[0;32mimport\u001b[0m \u001b[0mclassification_report\u001b[0m\u001b[0;34m\u001b[0m\u001b[0;34m\u001b[0m\u001b[0m\n\u001b[0;32m---> 59\u001b[0;31m \u001b[0mprint\u001b[0m\u001b[0;34m(\u001b[0m\u001b[0mclassification_report\u001b[0m\u001b[0;34m(\u001b[0m\u001b[0my_test\u001b[0m\u001b[0;34m,\u001b[0m \u001b[0my_pred_rf_selected\u001b[0m\u001b[0;34m)\u001b[0m\u001b[0;34m)\u001b[0m\u001b[0;34m\u001b[0m\u001b[0;34m\u001b[0m\u001b[0m\n\u001b[0m",
            "\u001b[0;32m/usr/local/lib/python3.11/dist-packages/sklearn/utils/_param_validation.py\u001b[0m in \u001b[0;36mwrapper\u001b[0;34m(*args, **kwargs)\u001b[0m\n\u001b[1;32m    214\u001b[0m                     )\n\u001b[1;32m    215\u001b[0m                 ):\n\u001b[0;32m--> 216\u001b[0;31m                     \u001b[0;32mreturn\u001b[0m \u001b[0mfunc\u001b[0m\u001b[0;34m(\u001b[0m\u001b[0;34m*\u001b[0m\u001b[0margs\u001b[0m\u001b[0;34m,\u001b[0m \u001b[0;34m**\u001b[0m\u001b[0mkwargs\u001b[0m\u001b[0;34m)\u001b[0m\u001b[0;34m\u001b[0m\u001b[0;34m\u001b[0m\u001b[0m\n\u001b[0m\u001b[1;32m    217\u001b[0m             \u001b[0;32mexcept\u001b[0m \u001b[0mInvalidParameterError\u001b[0m \u001b[0;32mas\u001b[0m \u001b[0me\u001b[0m\u001b[0;34m:\u001b[0m\u001b[0;34m\u001b[0m\u001b[0;34m\u001b[0m\u001b[0m\n\u001b[1;32m    218\u001b[0m                 \u001b[0;31m# When the function is just a wrapper around an estimator, we allow\u001b[0m\u001b[0;34m\u001b[0m\u001b[0;34m\u001b[0m\u001b[0m\n",
            "\u001b[0;32m/usr/local/lib/python3.11/dist-packages/sklearn/metrics/_classification.py\u001b[0m in \u001b[0;36mclassification_report\u001b[0;34m(y_true, y_pred, labels, target_names, sample_weight, digits, output_dict, zero_division)\u001b[0m\n\u001b[1;32m   2669\u001b[0m \u001b[0;34m\u001b[0m\u001b[0m\n\u001b[1;32m   2670\u001b[0m     \u001b[0my_true\u001b[0m\u001b[0;34m,\u001b[0m \u001b[0my_pred\u001b[0m \u001b[0;34m=\u001b[0m \u001b[0mattach_unique\u001b[0m\u001b[0;34m(\u001b[0m\u001b[0my_true\u001b[0m\u001b[0;34m,\u001b[0m \u001b[0my_pred\u001b[0m\u001b[0;34m)\u001b[0m\u001b[0;34m\u001b[0m\u001b[0;34m\u001b[0m\u001b[0m\n\u001b[0;32m-> 2671\u001b[0;31m     \u001b[0my_type\u001b[0m\u001b[0;34m,\u001b[0m \u001b[0my_true\u001b[0m\u001b[0;34m,\u001b[0m \u001b[0my_pred\u001b[0m \u001b[0;34m=\u001b[0m \u001b[0m_check_targets\u001b[0m\u001b[0;34m(\u001b[0m\u001b[0my_true\u001b[0m\u001b[0;34m,\u001b[0m \u001b[0my_pred\u001b[0m\u001b[0;34m)\u001b[0m\u001b[0;34m\u001b[0m\u001b[0;34m\u001b[0m\u001b[0m\n\u001b[0m\u001b[1;32m   2672\u001b[0m \u001b[0;34m\u001b[0m\u001b[0m\n\u001b[1;32m   2673\u001b[0m     \u001b[0;32mif\u001b[0m \u001b[0mlabels\u001b[0m \u001b[0;32mis\u001b[0m \u001b[0;32mNone\u001b[0m\u001b[0;34m:\u001b[0m\u001b[0;34m\u001b[0m\u001b[0;34m\u001b[0m\u001b[0m\n",
            "\u001b[0;32m/usr/local/lib/python3.11/dist-packages/sklearn/metrics/_classification.py\u001b[0m in \u001b[0;36m_check_targets\u001b[0;34m(y_true, y_pred)\u001b[0m\n\u001b[1;32m     97\u001b[0m     \u001b[0mxp\u001b[0m\u001b[0;34m,\u001b[0m \u001b[0m_\u001b[0m \u001b[0;34m=\u001b[0m \u001b[0mget_namespace\u001b[0m\u001b[0;34m(\u001b[0m\u001b[0my_true\u001b[0m\u001b[0;34m,\u001b[0m \u001b[0my_pred\u001b[0m\u001b[0;34m)\u001b[0m\u001b[0;34m\u001b[0m\u001b[0;34m\u001b[0m\u001b[0m\n\u001b[1;32m     98\u001b[0m     \u001b[0mcheck_consistent_length\u001b[0m\u001b[0;34m(\u001b[0m\u001b[0my_true\u001b[0m\u001b[0;34m,\u001b[0m \u001b[0my_pred\u001b[0m\u001b[0;34m)\u001b[0m\u001b[0;34m\u001b[0m\u001b[0;34m\u001b[0m\u001b[0m\n\u001b[0;32m---> 99\u001b[0;31m     \u001b[0mtype_true\u001b[0m \u001b[0;34m=\u001b[0m \u001b[0mtype_of_target\u001b[0m\u001b[0;34m(\u001b[0m\u001b[0my_true\u001b[0m\u001b[0;34m,\u001b[0m \u001b[0minput_name\u001b[0m\u001b[0;34m=\u001b[0m\u001b[0;34m\"y_true\"\u001b[0m\u001b[0;34m)\u001b[0m\u001b[0;34m\u001b[0m\u001b[0;34m\u001b[0m\u001b[0m\n\u001b[0m\u001b[1;32m    100\u001b[0m     \u001b[0mtype_pred\u001b[0m \u001b[0;34m=\u001b[0m \u001b[0mtype_of_target\u001b[0m\u001b[0;34m(\u001b[0m\u001b[0my_pred\u001b[0m\u001b[0;34m,\u001b[0m \u001b[0minput_name\u001b[0m\u001b[0;34m=\u001b[0m\u001b[0;34m\"y_pred\"\u001b[0m\u001b[0;34m)\u001b[0m\u001b[0;34m\u001b[0m\u001b[0;34m\u001b[0m\u001b[0m\n\u001b[1;32m    101\u001b[0m \u001b[0;34m\u001b[0m\u001b[0m\n",
            "\u001b[0;32m/usr/local/lib/python3.11/dist-packages/sklearn/utils/multiclass.py\u001b[0m in \u001b[0;36mtype_of_target\u001b[0;34m(y, input_name, raise_unknown)\u001b[0m\n\u001b[1;32m    415\u001b[0m         \u001b[0mdata\u001b[0m \u001b[0;34m=\u001b[0m \u001b[0my\u001b[0m\u001b[0;34m.\u001b[0m\u001b[0mdata\u001b[0m \u001b[0;32mif\u001b[0m \u001b[0missparse\u001b[0m\u001b[0;34m(\u001b[0m\u001b[0my\u001b[0m\u001b[0;34m)\u001b[0m \u001b[0;32melse\u001b[0m \u001b[0my\u001b[0m\u001b[0;34m\u001b[0m\u001b[0;34m\u001b[0m\u001b[0m\n\u001b[1;32m    416\u001b[0m         \u001b[0;32mif\u001b[0m \u001b[0mxp\u001b[0m\u001b[0;34m.\u001b[0m\u001b[0many\u001b[0m\u001b[0;34m(\u001b[0m\u001b[0mdata\u001b[0m \u001b[0;34m!=\u001b[0m \u001b[0mxp\u001b[0m\u001b[0;34m.\u001b[0m\u001b[0mastype\u001b[0m\u001b[0;34m(\u001b[0m\u001b[0mdata\u001b[0m\u001b[0;34m,\u001b[0m \u001b[0mint\u001b[0m\u001b[0;34m)\u001b[0m\u001b[0;34m)\u001b[0m\u001b[0;34m:\u001b[0m\u001b[0;34m\u001b[0m\u001b[0;34m\u001b[0m\u001b[0m\n\u001b[0;32m--> 417\u001b[0;31m             \u001b[0m_assert_all_finite\u001b[0m\u001b[0;34m(\u001b[0m\u001b[0mdata\u001b[0m\u001b[0;34m,\u001b[0m \u001b[0minput_name\u001b[0m\u001b[0;34m=\u001b[0m\u001b[0minput_name\u001b[0m\u001b[0;34m)\u001b[0m\u001b[0;34m\u001b[0m\u001b[0;34m\u001b[0m\u001b[0m\n\u001b[0m\u001b[1;32m    418\u001b[0m             \u001b[0;32mreturn\u001b[0m \u001b[0;34m\"continuous\"\u001b[0m \u001b[0;34m+\u001b[0m \u001b[0msuffix\u001b[0m\u001b[0;34m\u001b[0m\u001b[0;34m\u001b[0m\u001b[0m\n\u001b[1;32m    419\u001b[0m \u001b[0;34m\u001b[0m\u001b[0m\n",
            "\u001b[0;32m/usr/local/lib/python3.11/dist-packages/sklearn/utils/validation.py\u001b[0m in \u001b[0;36m_assert_all_finite\u001b[0;34m(X, allow_nan, msg_dtype, estimator_name, input_name)\u001b[0m\n\u001b[1;32m    118\u001b[0m         \u001b[0;32mreturn\u001b[0m\u001b[0;34m\u001b[0m\u001b[0;34m\u001b[0m\u001b[0m\n\u001b[1;32m    119\u001b[0m \u001b[0;34m\u001b[0m\u001b[0m\n\u001b[0;32m--> 120\u001b[0;31m     _assert_all_finite_element_wise(\n\u001b[0m\u001b[1;32m    121\u001b[0m         \u001b[0mX\u001b[0m\u001b[0;34m,\u001b[0m\u001b[0;34m\u001b[0m\u001b[0;34m\u001b[0m\u001b[0m\n\u001b[1;32m    122\u001b[0m         \u001b[0mxp\u001b[0m\u001b[0;34m=\u001b[0m\u001b[0mxp\u001b[0m\u001b[0;34m,\u001b[0m\u001b[0;34m\u001b[0m\u001b[0;34m\u001b[0m\u001b[0m\n",
            "\u001b[0;32m/usr/local/lib/python3.11/dist-packages/sklearn/utils/validation.py\u001b[0m in \u001b[0;36m_assert_all_finite_element_wise\u001b[0;34m(X, xp, allow_nan, msg_dtype, estimator_name, input_name)\u001b[0m\n\u001b[1;32m    167\u001b[0m                 \u001b[0;34m\"#estimators-that-handle-nan-values\"\u001b[0m\u001b[0;34m\u001b[0m\u001b[0;34m\u001b[0m\u001b[0m\n\u001b[1;32m    168\u001b[0m             )\n\u001b[0;32m--> 169\u001b[0;31m         \u001b[0;32mraise\u001b[0m \u001b[0mValueError\u001b[0m\u001b[0;34m(\u001b[0m\u001b[0mmsg_err\u001b[0m\u001b[0;34m)\u001b[0m\u001b[0;34m\u001b[0m\u001b[0;34m\u001b[0m\u001b[0m\n\u001b[0m\u001b[1;32m    170\u001b[0m \u001b[0;34m\u001b[0m\u001b[0m\n\u001b[1;32m    171\u001b[0m \u001b[0;34m\u001b[0m\u001b[0m\n",
            "\u001b[0;31mValueError\u001b[0m: Input y_true contains NaN."
          ]
        }
      ]
    },
    {
      "cell_type": "code",
      "source": [
        "print(\"X_test_scaled shape:\", X_test_scaled.shape)\n",
        "print(\"y_test shape:\", y_test.shape)\n"
      ],
      "metadata": {
        "id": "-Wcx4bNz6pp0",
        "colab": {
          "base_uri": "https://localhost:8080/"
        },
        "outputId": "c17c7a4b-cb01-4b8f-8d60-7cf106c31759"
      },
      "execution_count": null,
      "outputs": [
        {
          "output_type": "stream",
          "name": "stdout",
          "text": [
            "X_test_scaled shape: (63138, 30)\n",
            "y_test shape: (63138,)\n"
          ]
        }
      ]
    },
    {
      "cell_type": "code",
      "source": [
        "# If X_test_scaled is the reduced set, you need the matching y_test\n",
        "# Make sure you retained the right y_test when transforming X_test_scaled\n",
        "\n",
        "# You can zip back them together temporarily:\n",
        "if X_test_scaled.shape[0] < y_test.shape[0]:\n",
        "    y_test = y_test[:X_test_scaled.shape[0]]\n",
        "elif X_test_scaled.shape[0] > y_test.shape[0]:\n",
        "    X_test_scaled = X_test_scaled[:y_test.shape[0]]\n"
      ],
      "metadata": {
        "id": "SHNsZPz86tJt"
      },
      "execution_count": null,
      "outputs": []
    },
    {
      "cell_type": "code",
      "source": [
        "from sklearn.metrics import roc_curve, precision_recall_curve, roc_auc_score, classification_report\n",
        "import matplotlib.pyplot as plt\n",
        "import numpy as np\n",
        "from sklearn.ensemble import RandomForestClassifier\n",
        "from imblearn.over_sampling import SMOTE\n",
        "from sklearn.model_selection import train_test_split\n",
        "from sklearn.preprocessing import StandardScaler\n",
        "from sklearn.datasets import make_classification\n",
        "\n",
        "# Generate a synthetic imbalanced dataset for demonstration (replace with your actual data loading)\n",
        "X, y = make_classification(n_classes=2, class_sep=2, weights=[0.9, 0.1],\n",
        "                           n_informative=3, n_redundant=1, flip_y=0,\n",
        "                           n_features=20, n_clusters_per_class=1,\n",
        "                           n_samples=1000, random_state=42)\n",
        "df = pd.DataFrame(X, columns=[f'feature_{i}' for i in range(20)])\n",
        "df['Class'] = y\n",
        "\n",
        "# Separate features and target\n",
        "X = df.drop('Class', axis=1)\n",
        "y = df['Class']\n",
        "\n",
        "# Split data\n",
        "X_train, X_test, y_train, y_test = train_test_split(X, y, test_size=0.2, random_state=42)\n",
        "\n",
        "# Scale features\n",
        "scaler = StandardScaler()\n",
        "X_train_scaled = scaler.fit_transform(X_train)\n",
        "X_test_scaled = scaler.transform(X_test)\n",
        "\n",
        "# Apply SMOTE to the scaled training data\n",
        "smote = SMOTE(random_state=42)\n",
        "X_train_resampled, y_train_resampled = smote.fit_resample(X_train_scaled, y_train)\n",
        "\n",
        "# --- Train Random Forest with SMOTE ---\n",
        "rf_resampled = RandomForestClassifier(random_state=42)\n",
        "rf_resampled.fit(X_train_resampled, y_train_resampled)\n",
        "\n",
        "def plot_pr_curve(y_true, y_proba):\n",
        "    precision, recall, thresholds = precision_recall_curve(y_true, y_proba)\n",
        "    plt.plot(thresholds, precision[:-1], \"b--\", label=\"Precision\")\n",
        "    plt.plot(thresholds, recall[:-1], \"g-\", label=\"Recall\")\n",
        "    plt.xlabel(\"Threshold\")\n",
        "    plt.legend()\n",
        "    plt.title(\"Precision-Recall Curve\")\n",
        "    plt.show()\n",
        "\n",
        "def find_optimal_threshold(y_true, y_proba):\n",
        "    precision, recall, thresholds = precision_recall_curve(y_true, y_proba)\n",
        "    # You can choose the threshold that maximizes a specific metric, e.g., F1-score\n",
        "    f1_scores = 2 * (precision[:-1] * recall[:-1]) / (precision[:-1] + recall[:-1] + 1e-8) # Avoid division by zero\n",
        "    optimal_threshold_index = np.argmax(f1_scores)\n",
        "    optimal_threshold = thresholds[optimal_threshold_index]\n",
        "    print(f\"Optimal Threshold: {optimal_threshold:.4f}\")\n",
        "    return optimal_threshold\n",
        "\n",
        "# Assuming you have a trained model (e.g., rf_resampled) and test data (X_test_scaled, y_test)\n",
        "y_proba_rf = rf_resampled.predict_proba(X_test_scaled)[:, 1] # Get probability of being fraudulent\n",
        "\n",
        "plot_pr_curve(y_test, y_proba_rf)\n",
        "optimal_threshold_rf = find_optimal_threshold(y_test, y_proba_rf)\n",
        "\n",
        "# Make predictions using the optimal threshold\n",
        "y_pred_optimal_rf = (y_proba_rf >= optimal_threshold_rf).astype(int)\n",
        "\n",
        "# Evaluate the model with the optimal threshold\n",
        "print(\"Classification Report with Optimal Threshold (Random Forest):\")\n",
        "print(classification_report(y_test, y_pred_optimal_rf))"
      ],
      "metadata": {
        "id": "SYABXcuW5ri8",
        "colab": {
          "base_uri": "https://localhost:8080/",
          "height": 673
        },
        "outputId": "09ba413a-a5a9-4dc0-95d6-396f11acd944"
      },
      "execution_count": null,
      "outputs": [
        {
          "output_type": "display_data",
          "data": {
            "text/plain": [
              "<Figure size 640x480 with 1 Axes>"
            ],
            "image/png": "[encoded data removed]"
          },
          "metadata": {}
        },
        {
          "output_type": "stream",
          "name": "stdout",
          "text": [
            "Optimal Threshold: 0.6800\n",
            "Classification Report with Optimal Threshold (Random Forest):\n",
            "              precision    recall  f1-score   support\n",
            "\n",
            "           0       1.00      0.99      1.00       184\n",
            "           1       0.94      1.00      0.97        16\n",
            "\n",
            "    accuracy                           0.99       200\n",
            "   macro avg       0.97      1.00      0.98       200\n",
            "weighted avg       1.00      0.99      1.00       200\n",
            "\n"
          ]
        }
      ]
    },
    {
      "cell_type": "code",
      "source": [
        "from sklearn.metrics import roc_curve, roc_auc_score, precision_recall_curve, average_precision_score, classification_report\n",
        "import matplotlib.pyplot as plt\n",
        "from imblearn.over_sampling import SMOTE\n",
        "from sklearn.preprocessing import StandardScaler\n",
        "import pandas as pd\n",
        "from sklearn.model_selection import train_test_split\n",
        "from sklearn.ensemble import RandomForestClassifier\n",
        "\n",
        "X = df.drop('Class', axis=1)\n",
        "y = df['Class']\n",
        "\n",
        "# Split data\n",
        "X_train, X_test, y_train, y_test = train_test_split(X, y, test_size=0.2, random_state=42)\n",
        "\n",
        "# Scale features\n",
        "scaler = StandardScaler()\n",
        "X_train_scaled = scaler.fit_transform(X_train)\n",
        "X_test_scaled = scaler.transform(X_test)\n",
        "\n",
        "# --- Model 1: Random Forest without SMOTE ---\n",
        "rf_no_smote = RandomForestClassifier(random_state=42)\n",
        "rf_no_smote.fit(X_train_scaled, y_train)\n",
        "y_pred_rf_no_smote = rf_no_smote.predict(X_test_scaled)\n",
        "y_proba_rf_no_smote = rf_no_smote.predict_proba(X_test_scaled)[:, 1]\n",
        "\n",
        "# --- Model 2: Random Forest with SMOTE ---\n",
        "smote = SMOTE(random_state=42)\n",
        "X_train_resampled, y_train_resampled = smote.fit_resample(X_train_scaled, y_train)\n",
        "\n",
        "rf_with_smote = RandomForestClassifier(random_state=42)\n",
        "rf_with_smote.fit(X_train_resampled, y_train_resampled)\n",
        "y_pred_rf_with_smote = rf_with_smote.predict(X_test_scaled)\n",
        "y_proba_rf_with_smote = rf_with_smote.predict_proba(X_test_scaled)[:, 1]\n",
        "\n",
        "# --- Plotting ROC Curves ---\n",
        "plt.figure(figsize=(10, 6))\n",
        "fpr_rf_no_smote, tpr_rf_no_smote, _ = roc_curve(y_test, y_proba_rf_no_smote)\n",
        "auc_rf_no_smote = roc_auc_score(y_test, y_proba_rf_no_smote)\n",
        "plt.plot(fpr_rf_no_smote, tpr_rf_no_smote, label=f'RF (No SMOTE), AUC = {auc_rf_no_smote:.2f}')\n",
        "\n",
        "fpr_rf_with_smote, tpr_rf_with_smote, _ = roc_curve(y_test, y_proba_rf_with_smote)\n",
        "auc_rf_with_smote = roc_auc_score(y_test, y_proba_rf_with_smote)\n",
        "plt.plot(fpr_rf_with_smote, tpr_rf_with_smote, label=f'RF (With SMOTE), AUC = {auc_rf_with_smote:.2f}')\n",
        "\n",
        "plt.plot([0, 1], [0, 1], 'k--', label='Baseline')\n",
        "plt.xlabel('False Positive Rate')\n",
        "plt.ylabel('True Positive Rate')\n",
        "plt.title('ROC Curve Comparison')\n",
        "plt.legend()\n",
        "plt.grid(True)\n",
        "plt.show()\n",
        "\n",
        "# --- Plotting Precision-Recall Curves ---\n",
        "plt.figure(figsize=(10, 6))\n",
        "precision_rf_no_smote, recall_rf_no_smote, _ = precision_recall_curve(y_test, y_proba_rf_no_smote)\n",
        "ap_rf_no_smote = average_precision_score(y_test, y_proba_rf_no_smote)\n",
        "plt.plot(recall_rf_no_smote, precision_rf_no_smote, label=f'RF (No SMOTE), AP = {ap_rf_no_smote:.2f}')\n",
        "\n",
        "precision_rf_with_smote, recall_rf_with_smote, _ = precision_recall_curve(y_test, y_proba_rf_with_smote)\n",
        "ap_rf_with_smote = average_precision_score(y_test, y_proba_rf_with_smote)\n",
        "plt.plot(recall_rf_with_smote, precision_rf_with_smote, label=f'RF (With SMOTE), AP = {ap_rf_with_smote:.2f}')\n",
        "\n",
        "plt.xlabel('Recall')\n",
        "plt.ylabel('Precision')\n",
        "plt.title('Precision-Recall Curve Comparison')\n",
        "plt.legend()\n",
        "plt.grid(True)\n",
        "plt.show()\n",
        "\n",
        "# --- Precision-Recall Metrics (Classification Report) ---\n",
        "print(\"\\nClassification Report - Random Forest (No SMOTE):\")\n",
        "print(classification_report(y_test, y_pred_rf_no_smote))\n",
        "\n",
        "print(\"\\nClassification Report - Random Forest (With SMOTE):\")\n",
        "print(classification_report(y_test, y_pred_rf_with_smote))"
      ],
      "metadata": {
        "colab": {
          "base_uri": "https://localhost:8080/",
          "height": 1000
        },
        "id": "RGwzffGBn59Z",
        "outputId": "98e193ba-bb3c-4a95-c28f-0e924194dec6"
      },
      "execution_count": null,
      "outputs": [
        {
          "output_type": "display_data",
          "data": {
            "text/plain": [
              "<Figure size 1000x600 with 1 Axes>"
            ],
            "image/png": "[encoded data removed]"
          },
          "metadata": {}
        },
        {
          "output_type": "display_data",
          "data": {
            "text/plain": [
              "<Figure size 1000x600 with 1 Axes>"
            ],
            "image/png": "[encoded data removed]"
          },
          "metadata": {}
        },
        {
          "output_type": "stream",
          "name": "stdout",
          "text": [
            "\n",
            "Classification Report - Random Forest (No SMOTE):\n",
            "              precision    recall  f1-score   support\n",
            "\n",
            "           0       1.00      0.99      1.00       184\n",
            "           1       0.94      1.00      0.97        16\n",
            "\n",
            "    accuracy                           0.99       200\n",
            "   macro avg       0.97      1.00      0.98       200\n",
            "weighted avg       1.00      0.99      1.00       200\n",
            "\n",
            "\n",
            "Classification Report - Random Forest (With SMOTE):\n",
            "              precision    recall  f1-score   support\n",
            "\n",
            "           0       1.00      0.99      1.00       184\n",
            "           1       0.94      1.00      0.97        16\n",
            "\n",
            "    accuracy                           0.99       200\n",
            "   macro avg       0.97      1.00      0.98       200\n",
            "weighted avg       1.00      0.99      1.00       200\n",
            "\n"
          ]
        }
      ]
    },
    {
      "cell_type": "code",
      "source": [
        "import pandas as pd\n",
        "from sklearn.model_selection import train_test_split\n",
        "from sklearn.preprocessing import StandardScaler\n",
        "from sklearn.tree import DecisionTreeClassifier\n",
        "from sklearn.svm import SVC\n",
        "from sklearn.linear_model import LogisticRegression\n",
        "from sklearn.neighbors import KNeighborsClassifier\n",
        "from sklearn.metrics import roc_curve, roc_auc_score, accuracy_score, precision_score, recall_score, f1_score, classification_report\n",
        "import matplotlib.pyplot as plt\n",
        "from imblearn.over_sampling import SMOTE\n",
        "\n",
        "# Assuming you have your DataFrame 'df' and target column 'Class'\n",
        "X = df.drop('Class', axis=1)\n",
        "y = df['Class']\n",
        "\n",
        "# Split data\n",
        "X_train, X_test, y_train, y_test = train_test_split(X, y, test_size=0.2, random_state=42)\n",
        "\n",
        "# Scale features\n",
        "scaler = StandardScaler()\n",
        "X_train_scaled = scaler.fit_transform(X_train)\n",
        "X_test_scaled = scaler.transform(X_test)\n",
        "\n",
        "# Apply SMOTE to the scaled training data\n",
        "smote = SMOTE(random_state=42)\n",
        "X_train_resampled, y_train_resampled = smote.fit_resample(X_train_scaled, y_train)\n",
        "\n",
        "# --- Train and Evaluate Models on SMOTE Data ---\n",
        "\n",
        "models = {\n",
        "    'Decision Tree': DecisionTreeClassifier(random_state=42),\n",
        "    'SVM': SVC(probability=True, random_state=42),  # probability=True for ROC curve\n",
        "    'Logistic Regression': LogisticRegression(random_state=42),\n",
        "    'KNN': KNeighborsClassifier(n_neighbors=5)\n",
        "}\n",
        "\n",
        "plt.figure(figsize=(12, 8))\n",
        "\n",
        "for name, model in models.items():\n",
        "    model.fit(X_train_resampled, y_train_resampled)\n",
        "    y_pred = model.predict(X_test_scaled)\n",
        "    y_proba = model.predict_proba(X_test_scaled)[:, 1]\n",
        "\n",
        "    # Calculate metrics\n",
        "    accuracy = accuracy_score(y_test, y_pred)\n",
        "    precision = precision_score(y_test, y_pred)\n",
        "    recall = recall_score(y_test, y_pred)\n",
        "    f1 = f1_score(y_test, y_pred)\n",
        "    auc = roc_auc_score(y_test, y_proba)\n",
        "    fpr, tpr, _ = roc_curve(y_test, y_proba)\n",
        "\n",
        "    print(f\"\\n--- {name} (on SMOTE Data) ---\")\n",
        "    print(f\"Accuracy: {accuracy:.4f}\")\n",
        "    print(f\"Precision: {precision:.4f}\")\n",
        "    print(f\"Recall: {recall:.4f}\")\n",
        "    print(f\"F1-Score: {f1:.4f}\")\n",
        "    print(f\"AUC: {auc:.4f}\")\n",
        "    print(\"Classification Report:\")\n",
        "    print(classification_report(y_test, y_pred))\n",
        "\n",
        "    # Plot ROC Curve\n",
        "    plt.plot(fpr, tpr, label=f'{name}, AUC = {auc:.2f}')\n",
        "\n",
        "# Plot Baseline\n",
        "plt.plot([0, 1], [0, 1], 'k--', label='Baseline')\n",
        "plt.xlabel('False Positive Rate')\n",
        "plt.ylabel('True Positive Rate')\n",
        "plt.title('ROC Curve Comparison (on SMOTE Data)')\n",
        "plt.legend()\n",
        "plt.grid(True)\n",
        "plt.show()"
      ],
      "metadata": {
        "colab": {
          "base_uri": "https://localhost:8080/",
          "height": 1000
        },
        "id": "WaOeB83ksykG",
        "outputId": "74fe83b8-8b35-4597-9518-bf05f62d4c19"
      },
      "execution_count": null,
      "outputs": [
        {
          "output_type": "stream",
          "name": "stdout",
          "text": [
            "\n",
            "--- Decision Tree (on SMOTE Data) ---\n",
            "Accuracy: 0.9950\n",
            "Precision: 0.9412\n",
            "Recall: 1.0000\n",
            "F1-Score: 0.9697\n",
            "AUC: 0.9973\n",
            "Classification Report:\n",
            "              precision    recall  f1-score   support\n",
            "\n",
            "           0       1.00      0.99      1.00       184\n",
            "           1       0.94      1.00      0.97        16\n",
            "\n",
            "    accuracy                           0.99       200\n",
            "   macro avg       0.97      1.00      0.98       200\n",
            "weighted avg       1.00      0.99      1.00       200\n",
            "\n",
            "\n",
            "--- SVM (on SMOTE Data) ---\n",
            "Accuracy: 1.0000\n",
            "Precision: 1.0000\n",
            "Recall: 1.0000\n",
            "F1-Score: 1.0000\n",
            "AUC: 1.0000\n",
            "Classification Report:\n",
            "              precision    recall  f1-score   support\n",
            "\n",
            "           0       1.00      1.00      1.00       184\n",
            "           1       1.00      1.00      1.00        16\n",
            "\n",
            "    accuracy                           1.00       200\n",
            "   macro avg       1.00      1.00      1.00       200\n",
            "weighted avg       1.00      1.00      1.00       200\n",
            "\n",
            "\n",
            "--- Logistic Regression (on SMOTE Data) ---\n",
            "Accuracy: 0.9950\n",
            "Precision: 0.9412\n",
            "Recall: 1.0000\n",
            "F1-Score: 0.9697\n",
            "AUC: 1.0000\n",
            "Classification Report:\n",
            "              precision    recall  f1-score   support\n",
            "\n",
            "           0       1.00      0.99      1.00       184\n",
            "           1       0.94      1.00      0.97        16\n",
            "\n",
            "    accuracy                           0.99       200\n",
            "   macro avg       0.97      1.00      0.98       200\n",
            "weighted avg       1.00      0.99      1.00       200\n",
            "\n",
            "\n",
            "--- KNN (on SMOTE Data) ---\n",
            "Accuracy: 0.9900\n",
            "Precision: 0.8889\n",
            "Recall: 1.0000\n",
            "F1-Score: 0.9412\n",
            "AUC: 0.9969\n",
            "Classification Report:\n",
            "              precision    recall  f1-score   support\n",
            "\n",
            "           0       1.00      0.99      0.99       184\n",
            "           1       0.89      1.00      0.94        16\n",
            "\n",
            "    accuracy                           0.99       200\n",
            "   macro avg       0.94      0.99      0.97       200\n",
            "weighted avg       0.99      0.99      0.99       200\n",
            "\n"
          ]
        },
        {
          "output_type": "display_data",
          "data": {
            "text/plain": [
              "<Figure size 1200x800 with 1 Axes>"
            ],
            "image/png": "[encoded data removed]"
          },
          "metadata": {}
        }
      ]
    }
  ]
}